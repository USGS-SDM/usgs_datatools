{
 "cells": [
  {
   "cell_type": "markdown",
   "metadata": {},
   "source": [
    "This notebook provides an example of running through and making a bunch of DOI updates based on records in ScienceBase. In this case, we had previously reserved DOIs, all pointing at ScienceBase Items as their de-referencing URLs, and we now need to finalize the DOIs and turn them on for real. It works with Brandon Serna's usgs_datatools package, where the latest version works with the new DOI REST API. Most of the parts and pieces of this should be fairly easily reused by others needing to do something similar.\n",
    "\n",
    "The first few blocks here do all the same things Brandon has shown in other examples, setting up a session with the DOI tool to do work."
   ]
  },
  {
   "cell_type": "code",
   "execution_count": 1,
   "metadata": {},
   "outputs": [],
   "source": [
    "import os\n",
    "import json\n",
    "import requests\n",
    "import getpass\n",
    "from IPython.display import display\n",
    "\n",
    "from usgs_datatools import doi"
   ]
  },
  {
   "cell_type": "code",
   "execution_count": 2,
   "metadata": {},
   "outputs": [
    {
     "name": "stdout",
     "output_type": "stream",
     "text": [
      "USGS AD Password: ········\n"
     ]
    }
   ],
   "source": [
    "username = 'sbristol@usgs.gov'\n",
    "password = getpass.getpass('USGS AD Password: ')"
   ]
  },
  {
   "cell_type": "code",
   "execution_count": 3,
   "metadata": {},
   "outputs": [],
   "source": [
    "doi_session = doi.DoiSession(env='production')"
   ]
  },
  {
   "cell_type": "code",
   "execution_count": 4,
   "metadata": {},
   "outputs": [
    {
     "data": {
      "text/plain": [
       "<usgs_datatools.doi.DoiSession at 0x1083e07f0>"
      ]
     },
     "execution_count": 4,
     "metadata": {},
     "output_type": "execute_result"
    }
   ],
   "source": [
    "doi_session.doi_authenticate(username, password)"
   ]
  },
  {
   "cell_type": "markdown",
   "metadata": {},
   "source": [
    "In this case, I'm starting from the perspective of the existing ScienceBase Items where we previously recorded the reserved DOIs as one of the identifiers. I need to validate that all the critical information associated with that DOI matches what's in the ScienceBase Item, resetting a couple of attributes along the way and making the DOI public. I could just run it all in one process that goes through each ScienceBase Item, conencts to the DOI tool, and does the work, but since we are running this in a Notebook environment, we can simply build out a stripped down data object in memory and then run against it.\n",
    "\n",
    "We're dealing with two different ScienceBase collections with 1,719 items in each one, so we need to paginate through ScienceBase search results to build out what we need. You could also do this with pysb and would need to use something like that if dealing with restricted items. Because we just finished the data release process on these and made the collections public, we can simply access the ScienceBase REST API with requests."
   ]
  },
  {
   "cell_type": "code",
   "execution_count": 5,
   "metadata": {},
   "outputs": [],
   "source": [
    "sbItems = []\n",
    "for collectionID in ['527d0a83e4b0850ea0518326', '5951527de4b062508e3b1e79']:\n",
    "\n",
    "    nextLink = 'https://www.sciencebase.gov/catalog/items?max=100&format=json&fields=title,identifiers&parentId='+collectionID\n",
    "\n",
    "    while nextLink is not None:\n",
    "        if nextLink is not None:\n",
    "            sbResult = requests.get(nextLink).json()\n",
    "\n",
    "            if 'nextlink' in sbResult.keys():\n",
    "                nextLink = sbResult['nextlink']['url']\n",
    "            else:\n",
    "                nextLink = None\n",
    "\n",
    "            if len(sbResult['items']) != 0:\n",
    "                for item in sbResult['items']:\n",
    "                    thisSBItem = {'id':item['id']}\n",
    "                    thisSBItem['title'] = item['title']\n",
    "                    thisSBItem['doi'] = next((i['key'] for i in item[\"identifiers\"] if i['type'] == 'doi'), None)\n",
    "                    sbItems.append(thisSBItem)\n"
   ]
  },
  {
   "cell_type": "code",
   "execution_count": 6,
   "metadata": {},
   "outputs": [
    {
     "name": "stdout",
     "output_type": "stream",
     "text": [
      "3438\n"
     ]
    }
   ],
   "source": [
    "# See if we pulled the expected number of items - 3,438\n",
    "print(len(sbItems))"
   ]
  },
  {
   "cell_type": "code",
   "execution_count": 8,
   "metadata": {
    "scrolled": true
   },
   "outputs": [
    {
     "data": {
      "text/plain": [
       "{'error': 200,\n",
       " 'message': '{\"doi\":\"doi:10.5066/F7K935WV\",\"title\":\"Philadelphia Vireo (Vireo philadelphicus) Habitat Map\",\"pubDate\":\"2017\",\"url\":\"https://www.sciencebase.gov/catalog/item/58fa530ee4b0b7ea545252af\",\"resourceType\":\"Model\",\"date\":null,\"dateType\":null,\"description\":\"This dataset represents a species habitat distribution model for Philadelphia Vireo.  These habitat maps are created by applying a <a href=\\\\\"https://www.sciencebase.gov/catalog/item/527d0a83e4b0850ea0518326\\\\\">deductive habitat model</a> to remotely-sensed data layers within a species\\' range.\",\"subject\":\"USGS Data Release\",\"username\":\"dwieferich@usgs.gov\",\"status\":\"reserved\",\"noDataReleaseAvailableReason\":null,\"noPublicationIdAvailable\":false,\"dataSourceId\":59507,\"dataSourceName\":\"Core Science Analytics, Synthesis and Libraries\",\"linkCheckingStatus\":null,\"formatTypes\":[],\"authors\":[{\"authorName\":\"Prior-Magee, Julie\",\"orcId\":\"0000-0003-4031-1885\",\"nameType\":\"Personal\",\"position\":0},{\"authorName\":\"McKerrow, Alexa\",\"orcId\":\"0000-0002-8312-2905\",\"nameType\":\"Personal\",\"position\":1}],\"users\":[\"dwieferich@usgs.gov\",\"mlangseth@usgs.gov\",\"ntarr@usgs.gov\",\"tnorkin@usgs.gov\",\"amckerrow@usgs.gov\",\"jpmagee@usgs.gov\",\"sbristol@usgs.gov\",\"ntarr@contractor.usgs.gov\"],\"relatedIdentifiers\":[],\"ipdsNumbers\":[],\"created\":\"2017-04-21\",\"modified\":\"2017-11-07\"}'}"
      ]
     },
     "metadata": {},
     "output_type": "display_data"
    },
    {
     "data": {
      "text/plain": [
       "{'dataSourceId': 59507,\n",
       " 'dataSourceName': 'Core Science Analytics, Synthesis and Libraries',\n",
       " 'ipdsNumbers': [{'ipdsNumber': '082267', 'ipdsType': 'DATA_RELEASE'}],\n",
       " 'pubdate': '2018',\n",
       " 'title': 'Philadelphia Vireo (Vireo philadelphicus) bPHVIx_CONUS_2001v1 Habitat Map'}"
      ]
     },
     "metadata": {},
     "output_type": "display_data"
    },
    {
     "data": {
      "text/plain": [
       "{'error': 200,\n",
       " 'message': '{\"doi\":\"doi:10.5066/F75719FH\",\"title\":\"Shadow Chipmunk (Tamias senex) Habitat Map\",\"pubDate\":\"2017\",\"url\":\"https://www.sciencebase.gov/catalog/item/58fa7982e4b0b7ea54525b25\",\"resourceType\":\"Model\",\"date\":null,\"dateType\":null,\"description\":\"This dataset represents a species habitat distribution model for Shadow Chipmunk.  These habitat maps are created by applying a <a href=\\\\\"https://www.sciencebase.gov/catalog/item/527d0a83e4b0850ea0518326\\\\\">deductive habitat model</a> to remotely-sensed data layers within a species\\' range.\",\"subject\":\"USGS Data Release\",\"username\":\"dwieferich@usgs.gov\",\"status\":\"reserved\",\"noDataReleaseAvailableReason\":null,\"noPublicationIdAvailable\":false,\"dataSourceId\":59507,\"dataSourceName\":\"Core Science Analytics, Synthesis and Libraries\",\"linkCheckingStatus\":null,\"formatTypes\":[],\"authors\":[{\"authorName\":\"McKerrow, Alexa\",\"orcId\":\"0000-0002-8312-2905\",\"nameType\":\"Personal\",\"position\":1},{\"authorName\":\"Prior-Magee, Julie\",\"orcId\":\"0000-0003-4031-1885\",\"nameType\":\"Personal\",\"position\":0}],\"users\":[\"dwieferich@usgs.gov\",\"mlangseth@usgs.gov\",\"ntarr@usgs.gov\",\"tnorkin@usgs.gov\",\"amckerrow@usgs.gov\",\"jpmagee@usgs.gov\",\"sbristol@usgs.gov\",\"ntarr@contractor.usgs.gov\"],\"relatedIdentifiers\":[],\"ipdsNumbers\":[],\"created\":\"2017-04-21\",\"modified\":\"2017-11-07\"}'}"
      ]
     },
     "metadata": {},
     "output_type": "display_data"
    },
    {
     "data": {
      "text/plain": [
       "{'dataSourceId': 59507,\n",
       " 'dataSourceName': 'Core Science Analytics, Synthesis and Libraries',\n",
       " 'ipdsNumbers': [{'ipdsNumber': '082267', 'ipdsType': 'DATA_RELEASE'}],\n",
       " 'pubdate': '2018',\n",
       " 'title': 'Shadow Chipmunk (Tamias senex) mSHCHx_CONUS_2001v1 Habitat Map'}"
      ]
     },
     "metadata": {},
     "output_type": "display_data"
    },
    {
     "data": {
      "text/plain": [
       "{'error': 200,\n",
       " 'message': '{\"doi\":\"doi:10.5066/F7H130D4\",\"title\":\"Chihuahuan Grasshopper Mouse (Onychomys arenicola) Habitat Map\",\"pubDate\":\"2017\",\"url\":\"https://www.sciencebase.gov/catalog/item/58fa63ade4b0b7ea545257ad\",\"resourceType\":\"Model\",\"date\":null,\"dateType\":null,\"description\":\"This dataset represents a species habitat distribution model for Chihuahuan Grasshopper Mouse.  These habitat maps are created by applying a <a href=\\\\\"https://www.sciencebase.gov/catalog/item/527d0a83e4b0850ea0518326\\\\\">deductive habitat model</a> to remotely-sensed data layers within a species\\' range.\",\"subject\":\"USGS Data Release\",\"username\":\"dwieferich@usgs.gov\",\"status\":\"reserved\",\"noDataReleaseAvailableReason\":null,\"noPublicationIdAvailable\":false,\"dataSourceId\":59507,\"dataSourceName\":\"Core Science Analytics, Synthesis and Libraries\",\"linkCheckingStatus\":null,\"formatTypes\":[],\"authors\":[{\"authorName\":\"Prior-Magee, Julie\",\"orcId\":\"0000-0003-4031-1885\",\"nameType\":\"Personal\",\"position\":0},{\"authorName\":\"McKerrow, Alexa\",\"orcId\":\"0000-0002-8312-2905\",\"nameType\":\"Personal\",\"position\":1}],\"users\":[\"dwieferich@usgs.gov\",\"mlangseth@usgs.gov\",\"ntarr@usgs.gov\",\"tnorkin@usgs.gov\",\"amckerrow@usgs.gov\",\"jpmagee@usgs.gov\",\"sbristol@usgs.gov\",\"ntarr@contractor.usgs.gov\"],\"relatedIdentifiers\":[],\"ipdsNumbers\":[],\"created\":\"2017-04-21\",\"modified\":\"2017-11-07\"}'}"
      ]
     },
     "metadata": {},
     "output_type": "display_data"
    },
    {
     "data": {
      "text/plain": [
       "{'dataSourceId': 59507,\n",
       " 'dataSourceName': 'Core Science Analytics, Synthesis and Libraries',\n",
       " 'ipdsNumbers': [{'ipdsNumber': '082267', 'ipdsType': 'DATA_RELEASE'}],\n",
       " 'pubdate': '2018',\n",
       " 'title': 'Chihuahuan Grasshopper Mouse (Onychomys arenicola) mCGMOx_CONUS_2001v1 Habitat Map'}"
      ]
     },
     "metadata": {},
     "output_type": "display_data"
    },
    {
     "data": {
      "text/plain": [
       "{'error': 200,\n",
       " 'message': '{\"doi\":\"doi:10.5066/F7FJ2F43\",\"title\":\"Pine Grosbeak (Pinicola enucleator) Habitat Map\",\"pubDate\":\"2017\",\"url\":\"https://www.sciencebase.gov/catalog/item/58fa5318e4b0b7ea545252b2\",\"resourceType\":\"Model\",\"date\":null,\"dateType\":null,\"description\":\"This dataset represents a species habitat distribution model for Pine Grosbeak.  These habitat maps are created by applying a <a href=\\\\\"https://www.sciencebase.gov/catalog/item/527d0a83e4b0850ea0518326\\\\\">deductive habitat model</a> to remotely-sensed data layers within a species\\' range.\",\"subject\":\"USGS Data Release\",\"username\":\"dwieferich@usgs.gov\",\"status\":\"reserved\",\"noDataReleaseAvailableReason\":null,\"noPublicationIdAvailable\":false,\"dataSourceId\":59507,\"dataSourceName\":\"Core Science Analytics, Synthesis and Libraries\",\"linkCheckingStatus\":null,\"formatTypes\":[],\"authors\":[{\"authorName\":\"McKerrow, Alexa\",\"orcId\":\"0000-0002-8312-2905\",\"nameType\":\"Personal\",\"position\":1},{\"authorName\":\"Prior-Magee, Julie\",\"orcId\":\"0000-0003-4031-1885\",\"nameType\":\"Personal\",\"position\":0}],\"users\":[\"dwieferich@usgs.gov\",\"mlangseth@usgs.gov\",\"ntarr@usgs.gov\",\"tnorkin@usgs.gov\",\"amckerrow@usgs.gov\",\"jpmagee@usgs.gov\",\"sbristol@usgs.gov\",\"ntarr@contractor.usgs.gov\"],\"relatedIdentifiers\":[],\"ipdsNumbers\":[],\"created\":\"2017-04-21\",\"modified\":\"2017-11-07\"}'}"
      ]
     },
     "metadata": {},
     "output_type": "display_data"
    },
    {
     "data": {
      "text/plain": [
       "{'dataSourceId': 59507,\n",
       " 'dataSourceName': 'Core Science Analytics, Synthesis and Libraries',\n",
       " 'ipdsNumbers': [{'ipdsNumber': '082267', 'ipdsType': 'DATA_RELEASE'}],\n",
       " 'pubdate': '2018',\n",
       " 'title': 'Pine Grosbeak (Pinicola enucleator) bPIGRx_CONUS_2001v1 Habitat Map'}"
      ]
     },
     "metadata": {},
     "output_type": "display_data"
    },
    {
     "data": {
      "text/plain": [
       "{'error': 200,\n",
       " 'message': '{\"doi\":\"doi:10.5066/F7H41PR5\",\"title\":\"Henslow\\'s Sparrow (Ammodramus henslowii) bHESPx_CONUS_2001v1 Habitat Map\",\"pubDate\":\"2018\",\"url\":\"https://www.sciencebase.gov/catalog/item/58fa4d4fe4b0b7ea545250a1\",\"resourceType\":\"Model\",\"date\":null,\"dateType\":null,\"description\":\"This dataset represents a species habitat distribution model for Henslow\\'s Sparrow.  These habitat maps are created by applying a <a href=\\\\\"https://www.sciencebase.gov/catalog/item/527d0a83e4b0850ea0518326\\\\\">deductive habitat model</a> to remotely-sensed data layers within a species\\' range.\",\"subject\":\"USGS Data Release\",\"username\":\"sbristol@usgs.gov\",\"status\":\"reserved\",\"noDataReleaseAvailableReason\":null,\"noPublicationIdAvailable\":false,\"dataSourceId\":59507,\"dataSourceName\":\"Core Science Analytics, Synthesis and Libraries\",\"linkCheckingStatus\":null,\"formatTypes\":[],\"authors\":[{\"authorName\":\"Prior-Magee, Julie\",\"orcId\":\"0000-0003-4031-1885\",\"nameType\":\"Personal\",\"position\":0},{\"authorName\":\"McKerrow, Alexa\",\"orcId\":\"0000-0002-8312-2905\",\"nameType\":\"Personal\",\"position\":1}],\"users\":[\"dwieferich@usgs.gov\",\"mlangseth@usgs.gov\",\"ntarr@usgs.gov\",\"tnorkin@usgs.gov\",\"amckerrow@usgs.gov\",\"jpmagee@usgs.gov\",\"sbristol@usgs.gov\",\"ntarr@contractor.usgs.gov\"],\"relatedIdentifiers\":[],\"ipdsNumbers\":[],\"created\":\"2018-07-03\",\"modified\":\"2018-07-03\"}'}"
      ]
     },
     "metadata": {},
     "output_type": "display_data"
    },
    {
     "data": {
      "text/plain": [
       "{'dataSourceId': 59507,\n",
       " 'dataSourceName': 'Core Science Analytics, Synthesis and Libraries',\n",
       " 'ipdsNumbers': [{'ipdsNumber': '082267', 'ipdsType': 'DATA_RELEASE'}],\n",
       " 'pubdate': '2018',\n",
       " 'title': \"Henslow's Sparrow (Ammodramus henslowii) bHESPx_CONUS_2001v1 Habitat Map\"}"
      ]
     },
     "metadata": {},
     "output_type": "display_data"
    },
    {
     "data": {
      "text/plain": [
       "{'error': 200,\n",
       " 'message': '{\"doi\":\"doi:10.5066/F7XG9PJP\",\"title\":\"Southern Red-backed Vole (Myodes gapperi) Habitat Map\",\"pubDate\":\"2017\",\"url\":\"https://www.sciencebase.gov/catalog/item/58fa7bb7e4b0b7ea54525b72\",\"resourceType\":\"Model\",\"date\":null,\"dateType\":null,\"description\":\"This dataset represents a species habitat distribution model for Southern Red-backed Vole.  These habitat maps are created by applying a <a href=\\\\\"https://www.sciencebase.gov/catalog/item/527d0a83e4b0850ea0518326\\\\\">deductive habitat model</a> to remotely-sensed data layers within a species\\' range.\",\"subject\":\"USGS Data Release\",\"username\":\"dwieferich@usgs.gov\",\"status\":\"reserved\",\"noDataReleaseAvailableReason\":null,\"noPublicationIdAvailable\":false,\"dataSourceId\":59507,\"dataSourceName\":\"Core Science Analytics, Synthesis and Libraries\",\"linkCheckingStatus\":null,\"formatTypes\":[],\"authors\":[{\"authorName\":\"McKerrow, Alexa\",\"orcId\":\"0000-0002-8312-2905\",\"nameType\":\"Personal\",\"position\":1},{\"authorName\":\"Prior-Magee, Julie\",\"orcId\":\"0000-0003-4031-1885\",\"nameType\":\"Personal\",\"position\":0}],\"users\":[\"dwieferich@usgs.gov\",\"mlangseth@usgs.gov\",\"ntarr@usgs.gov\",\"tnorkin@usgs.gov\",\"amckerrow@usgs.gov\",\"jpmagee@usgs.gov\",\"sbristol@usgs.gov\",\"ntarr@contractor.usgs.gov\"],\"relatedIdentifiers\":[],\"ipdsNumbers\":[],\"created\":\"2017-04-21\",\"modified\":\"2017-11-07\"}'}"
      ]
     },
     "metadata": {},
     "output_type": "display_data"
    },
    {
     "data": {
      "text/plain": [
       "{'dataSourceId': 59507,\n",
       " 'dataSourceName': 'Core Science Analytics, Synthesis and Libraries',\n",
       " 'ipdsNumbers': [{'ipdsNumber': '082267', 'ipdsType': 'DATA_RELEASE'}],\n",
       " 'pubdate': '2018',\n",
       " 'title': 'Southern Red-backed Vole (Myodes gapperi) mSRBVx_CONUS_2001v1 Habitat Map'}"
      ]
     },
     "metadata": {},
     "output_type": "display_data"
    }
   ],
   "source": [
    "for index,sbItem in enumerate(sbItems):\n",
    "    if index > 5:\n",
    "        break\n",
    "    \n",
    "    thisDOIRecord = doi_session.get_doi(sbItem['doi'])\n",
    "\n",
    "    # Potentially problematic response\n",
    "    display (thisDOIRecord)\n",
    "\n",
    "    thisDOIDict = json.loads(thisDOIRecord['message'])\n",
    "    \n",
    "    # Create a dictionary to conduct the update containing all the information it's supposed to have\n",
    "    thisDoi = sbItem.copy()\n",
    "    thisDoi.pop('doi')\n",
    "    thisDoi.pop('id')\n",
    "    # Set some hard parameters\n",
    "    thisDoi['pubdate'] = '2018'\n",
    "    thisDoi['ipdsNumbers'] = [{'ipdsNumber': '082267', 'ipdsType': 'DATA_RELEASE'}]\n",
    "    thisDoi['dataSourceId'] = 59507\n",
    "    thisDoi['dataSourceName'] = 'Core Science Analytics, Synthesis and Libraries'\n",
    "    \n",
    "    # Check to make sure the DOI URL matches the ScienceBase Item\n",
    "    if thisDOIDict['url'].split('/')[-1] != sbItem['id']:\n",
    "        thisDoi['url'] = 'https://www.sciencebase.gov/catalog/item/'+sbItem['id']\n",
    "    \n",
    "    # This will be the DOI update package plus the parameter to make it public\n",
    "    display(thisDoi)\n",
    "        "
   ]
  },
  {
   "cell_type": "code",
   "execution_count": null,
   "metadata": {},
   "outputs": [],
   "source": []
  }
 ],
 "metadata": {
  "kernelspec": {
   "display_name": "Python 3",
   "language": "python",
   "name": "python3"
  },
  "language_info": {
   "codemirror_mode": {
    "name": "ipython",
    "version": 3
   },
   "file_extension": ".py",
   "mimetype": "text/x-python",
   "name": "python",
   "nbconvert_exporter": "python",
   "pygments_lexer": "ipython3",
   "version": "3.6.4"
  }
 },
 "nbformat": 4,
 "nbformat_minor": 2
}
