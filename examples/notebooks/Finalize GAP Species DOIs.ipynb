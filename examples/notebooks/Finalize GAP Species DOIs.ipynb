{
 "cells": [
  {
   "cell_type": "markdown",
   "metadata": {},
   "source": [
    "This notebook provides an example of running through and making a bunch of DOI updates based on records in ScienceBase. In this case, we had previously reserved DOIs, all pointing at ScienceBase Items as their de-referencing URLs, and we now need to finalize the DOIs and turn them on for real. It works with Brandon Serna's usgs_datatools package, where the latest version works with the new DOI REST API. Most of the parts and pieces of this should be fairly easily reused by others needing to do something similar.\n",
    "\n",
    "The first few blocks here do all the same things Brandon has shown in other examples, setting up a session with the DOI tool to do work."
   ]
  },
  {
   "cell_type": "code",
   "execution_count": 1,
   "metadata": {},
   "outputs": [],
   "source": [
    "import os\n",
    "import json\n",
    "import requests\n",
    "import getpass\n",
    "from IPython.display import display\n",
    "\n",
    "from usgs_datatools import doi"
   ]
  },
  {
   "cell_type": "code",
   "execution_count": 2,
   "metadata": {},
   "outputs": [
    {
     "name": "stdout",
     "output_type": "stream",
     "text": [
      "USGS AD Password: ········\n"
     ]
    }
   ],
   "source": [
    "username = 'sbristol@usgs.gov'\n",
    "password = getpass.getpass('USGS AD Password: ')"
   ]
  },
  {
   "cell_type": "code",
   "execution_count": 3,
   "metadata": {},
   "outputs": [],
   "source": [
    "doi_session = doi.DoiSession(env='production')"
   ]
  },
  {
   "cell_type": "code",
   "execution_count": 4,
   "metadata": {},
   "outputs": [
    {
     "data": {
      "text/plain": [
       "<usgs_datatools.doi.DoiSession at 0x107ba47b8>"
      ]
     },
     "execution_count": 4,
     "metadata": {},
     "output_type": "execute_result"
    }
   ],
   "source": [
    "doi_session.doi_authenticate(username, password)"
   ]
  },
  {
   "cell_type": "markdown",
   "metadata": {},
   "source": [
    "In this case, I'm starting from the perspective of the existing ScienceBase Items where we previously recorded the reserved DOIs as one of the identifiers. I need to validate that all the critical information associated with that DOI matches what's in the ScienceBase Item, resetting a couple of attributes along the way and making the DOI public. I could just run it all in one process that goes through each ScienceBase Item, connects to the DOI tool, and does the work, but since we are running this in a Notebook environment, we can simply build out a stripped down data object in memory and then run against that.\n",
    "\n",
    "We're dealing with two different ScienceBase collections with 1,719 items in each one, so we need to paginate through ScienceBase search results to build out what we need. You could also do this with pysb and would need to use something like that if dealing with restricted items. Because we just finished the data release process on these and made the collections public, we can simply access the ScienceBase REST API with requests."
   ]
  },
  {
   "cell_type": "code",
   "execution_count": 5,
   "metadata": {},
   "outputs": [],
   "source": [
    "sbItems = []\n",
    "for collectionID in ['527d0a83e4b0850ea0518326', '5951527de4b062508e3b1e79']:\n",
    "\n",
    "    nextLink = 'https://www.sciencebase.gov/catalog/items?max=100&format=json&fields=title,identifiers&parentId='+collectionID\n",
    "\n",
    "    while nextLink is not None:\n",
    "        if nextLink is not None:\n",
    "            sbResult = requests.get(nextLink).json()\n",
    "\n",
    "            if 'nextlink' in sbResult.keys():\n",
    "                nextLink = sbResult['nextlink']['url']\n",
    "            else:\n",
    "                nextLink = None\n",
    "\n",
    "            if len(sbResult['items']) != 0:\n",
    "                for item in sbResult['items']:\n",
    "                    thisSBItem = {'id':item['id']}\n",
    "                    thisSBItem['title'] = item['title']\n",
    "                    thisSBItem['doi'] = next((i['key'] for i in item[\"identifiers\"] if i['type'] == 'doi'), None)\n",
    "                    sbItems.append(thisSBItem)\n"
   ]
  },
  {
   "cell_type": "code",
   "execution_count": 6,
   "metadata": {},
   "outputs": [
    {
     "name": "stdout",
     "output_type": "stream",
     "text": [
      "3438\n"
     ]
    }
   ],
   "source": [
    "# See if we pulled the expected number of items - 3,438\n",
    "print(len(sbItems))"
   ]
  },
  {
   "cell_type": "code",
   "execution_count": 14,
   "metadata": {
    "scrolled": true
   },
   "outputs": [
    {
     "data": {
      "text/plain": [
       "{'dataSourceId': 59507,\n",
       " 'dataSourceName': 'Core Science Analytics, Synthesis and Libraries',\n",
       " 'doi': 'doi:10.5066/F7028PW8',\n",
       " 'ipdsNumbers': [{'ipdsNumber': '082267', 'ipdsType': 'DATA_RELEASE'}],\n",
       " 'noPublicationIdAvailable': True,\n",
       " 'pubDate': '2018',\n",
       " 'status': 'public',\n",
       " 'title': 'Scarlet Tanager (Piranga olivacea) bSCTAx_CONUS_2001v1 Habitat Map'}"
      ]
     },
     "metadata": {},
     "output_type": "display_data"
    },
    {
     "data": {
      "text/plain": [
       "{'error': 400,\n",
       " 'message': 'An error occurred when attempting to process your request: Missing date parameter'}"
      ]
     },
     "metadata": {},
     "output_type": "display_data"
    },
    {
     "ename": "KeyError",
     "evalue": "'doi'",
     "output_type": "error",
     "traceback": [
      "\u001b[0;31m---------------------------------------------------------------------------\u001b[0m",
      "\u001b[0;31mKeyError\u001b[0m                                  Traceback (most recent call last)",
      "\u001b[0;32m<timed exec>\u001b[0m in \u001b[0;36m<module>\u001b[0;34m()\u001b[0m\n",
      "\u001b[0;31mKeyError\u001b[0m: 'doi'"
     ]
    }
   ],
   "source": [
    "%%time\n",
    "\n",
    "for index,sbItem in enumerate(sbItems):\n",
    "    # Put in a break for testing\n",
    "    #if index > 5:\n",
    "    #    break\n",
    "\n",
    "    # Get the current record from the DOI database\n",
    "    thisDOIRecord = doi_session.get_doi(sbItem['doi'])\n",
    "\n",
    "    # Convert the returned 'message' to a dict for comparing current attributes\n",
    "    thisDOIDict = json.loads(thisDOIRecord['message'])\n",
    "    \n",
    "    # The proccess horked out, so I'm throwing in a check on status to see if I can get it to finish off eventually\n",
    "    if thisDOIDict['status'] == 'public':\n",
    "        continue\n",
    "    \n",
    "    # Create a dictionary to conduct the update containing all the information it's supposed to have\n",
    "    thisDoi = sbItem.copy()\n",
    "    # Get rid of the ScienceBase ID for the doi update packet (though it doesn't seem to break anything if left in)\n",
    "    thisDoi.pop('id')\n",
    "\n",
    "    # Set some hard-coded parameters, including making the DOI public\n",
    "    thisDoi['status'] = 'public'\n",
    "    thisDoi['pubDate'] = '2018'\n",
    "    thisDoi['ipdsNumbers'] = [{'ipdsNumber': '082267', 'ipdsType': 'DATA_RELEASE'}]\n",
    "    thisDoi['dataSourceId'] = 59507\n",
    "    thisDoi['dataSourceName'] = 'Core Science Analytics, Synthesis and Libraries'\n",
    "    # Despite including the IPDS number, I'm getting an error returned when trying to make public\n",
    "    # I'm setting this flag to see if I can get the process done, since there seems to be a checking error\n",
    "    thisDoi['noPublicationIdAvailable'] = True\n",
    "    \n",
    "    # Check to make sure the DOI URL matches the ScienceBase Item\n",
    "    # If not, add it to the update packet\n",
    "    if thisDOIDict['url'].split('/')[-1] != sbItem['id']:\n",
    "        thisDoi['url'] = 'https://www.sciencebase.gov/catalog/item/'+sbItem['id']\n",
    "    \n",
    "    # This will be the DOI update package plus the parameter to make it public\n",
    "    display(thisDoi)\n",
    "    \n",
    "    # Update the DOI with the update packet, including setting to public from reserved\n",
    "    upd_r = doi_session.doi_update(thisDoi)\n",
    "    display(upd_r)\n",
    "    print(upd_r['doi'], upd_r['status'])\n",
    "        "
   ]
  },
  {
   "cell_type": "code",
   "execution_count": null,
   "metadata": {},
   "outputs": [],
   "source": []
  }
 ],
 "metadata": {
  "kernelspec": {
   "display_name": "Python 3",
   "language": "python",
   "name": "python3"
  },
  "language_info": {
   "codemirror_mode": {
    "name": "ipython",
    "version": 3
   },
   "file_extension": ".py",
   "mimetype": "text/x-python",
   "name": "python",
   "nbconvert_exporter": "python",
   "pygments_lexer": "ipython3",
   "version": "3.6.4"
  }
 },
 "nbformat": 4,
 "nbformat_minor": 2
}
