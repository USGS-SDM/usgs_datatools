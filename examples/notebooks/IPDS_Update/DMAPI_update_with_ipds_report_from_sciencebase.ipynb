{
 "cells": [
  {
   "cell_type": "code",
   "execution_count": 3,
   "metadata": {},
   "outputs": [],
   "source": [
    "import json\n",
    "import ast\n",
    "import re\n",
    "import getpass\n",
    "\n",
    "from usgs_datatools import doi"
   ]
  },
  {
   "cell_type": "code",
   "execution_count": 4,
   "metadata": {},
   "outputs": [
    {
     "name": "stdout",
     "output_type": "stream",
     "text": [
      "USGS AD Password: ········\n",
      "Successfully authenticated.\n"
     ]
    }
   ],
   "source": [
    "username = 'vgarbulet@contractor.usgs.gov'\n",
    "password = getpass.getpass('USGS AD Password: ')\n",
    "DoiSession = doi.DoiSession(env='staging')\n",
    "DoiSession.doi_authenticate(username, password)\n",
    "print (\"Successfully authenticated.\")"
   ]
  },
  {
   "cell_type": "code",
   "execution_count": 7,
   "metadata": {},
   "outputs": [
    {
     "name": "stdout",
     "output_type": "stream",
     "text": [
      "Updating doi:10.5066/F7Q23X8Q  with IPDS:  IP-111111\n",
      "\n",
      "SUCCESS\n",
      "\n"
     ]
    }
   ],
   "source": [
    "with open('Test_Report.txt', 'r', errors='replace') as infile:\n",
    "    line = infile.readline()\n",
    "    while line != '':\n",
    "        if line.strip():\n",
    "            pair = line.split(\" : \")\n",
    "            in_doi = pair[0]\n",
    "            ipds = pair[1]\n",
    "            print(\"Updating \" + in_doi + \"  with IPDS:  \" + ipds)\n",
    "            out_doi = DoiSession.get_doi(in_doi)\n",
    "            if out_doi['ipdsNumbers']:\n",
    "                out_doi['ipdsNumbers'].append({'ipdsNumber': ipds, 'ipdsType':'DATA_RELEASE'})\n",
    "            else:\n",
    "                out_doi['ipdsNumbers'] = [{'ipdsNumber': ipds, 'ipdsType':'DATA_RELEASE'}]\n",
    "            \n",
    "            # Send update request to DOi Tool\n",
    "            update_request = DoiSession.doi_update(out_doi)\n",
    "            \n",
    "            # If there was any errors, save the doi and error message to errors file\n",
    "            if 'error' in update_request.keys() and 'DataCite' not in update_request['message']:\n",
    "                print(\"FAILED\\n\")\n",
    "                with open('errors.txt', 'a') as error_file:\n",
    "                    error_file.write(str(in_doi) + \"   \" + str(update_request['message']) + \"\\n\")\n",
    "            else:\n",
    "                print(\"SUCCESS\\n\")\n",
    "        line = infile.readline()"
   ]
  },
  {
   "cell_type": "code",
   "execution_count": null,
   "metadata": {},
   "outputs": [],
   "source": []
  }
 ],
 "metadata": {
  "kernelspec": {
   "display_name": "Python 3",
   "language": "python",
   "name": "python3"
  },
  "language_info": {
   "codemirror_mode": {
    "name": "ipython",
    "version": 3
   },
   "file_extension": ".py",
   "mimetype": "text/x-python",
   "name": "python",
   "nbconvert_exporter": "python",
   "pygments_lexer": "ipython3",
   "version": "3.7.4"
  }
 },
 "nbformat": 4,
 "nbformat_minor": 2
}
