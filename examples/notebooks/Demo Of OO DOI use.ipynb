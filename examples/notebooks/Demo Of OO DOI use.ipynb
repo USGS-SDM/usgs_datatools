{
 "cells": [
  {
   "cell_type": "code",
   "execution_count": 1,
   "metadata": {},
   "outputs": [],
   "source": [
    "%load_ext autoreload\n",
    "%autoreload 2"
   ]
  },
  {
   "cell_type": "code",
   "execution_count": 30,
   "metadata": {},
   "outputs": [],
   "source": [
    "from usgs_datatools import doi\n",
    "import getpass"
   ]
  },
  {
   "cell_type": "code",
   "execution_count": 3,
   "metadata": {},
   "outputs": [
    {
     "name": "stdin",
     "output_type": "stream",
     "text": [
      " ················\n"
     ]
    }
   ],
   "source": [
    "username = getpass.getuser() + '@usgs.gov' \n",
    "password = getpass.getpass()"
   ]
  },
  {
   "cell_type": "code",
   "execution_count": 61,
   "metadata": {},
   "outputs": [
    {
     "data": {
      "text/plain": [
       "<usgs_datatools.doi.DoiSession at 0x234fa552160>"
      ]
     },
     "execution_count": 61,
     "metadata": {},
     "output_type": "execute_result"
    }
   ],
   "source": [
    "doi_session = doi.DoiSession(env=\"production\")\n",
    "doi_session.doi_authenticate(username, password)"
   ]
  },
  {
   "cell_type": "code",
   "execution_count": 62,
   "metadata": {},
   "outputs": [
    {
     "data": {
      "text/plain": [
       "<usgs_datatools.doi.Doi object>\n",
       "        \n",
       "        \tdoi: doi:10.5066/F70863HM\n",
       "        \ttitle: PlosOne - Data set on snake captures including site, size, and sex, for the manuscript titled Quantile regression of microgeographic variat...\n",
       "        \turl: https://www.sciencebase.gov/catalog/item/5889213de4b0ba3b075ce69a\n",
       "        "
      ]
     },
     "execution_count": 62,
     "metadata": {},
     "output_type": "execute_result"
    }
   ],
   "source": [
    "my_doi = doi_session.get_doi('doi:10.5066/F70863HM')\n",
    "my_doi"
   ]
  },
  {
   "cell_type": "code",
   "execution_count": 59,
   "metadata": {},
   "outputs": [
    {
     "data": {
      "text/plain": [
       "['talbertc@usgs.gov',\n",
       " 'sciencebase@ornl.gov',\n",
       " 'hbattlesmanley@contractor.usgs.gov',\n",
       " 'dignizio@usgs.gov']"
      ]
     },
     "execution_count": 59,
     "metadata": {},
     "output_type": "execute_result"
    }
   ],
   "source": [
    "my_doi.users"
   ]
  },
  {
   "cell_type": "code",
   "execution_count": 43,
   "metadata": {},
   "outputs": [],
   "source": [
    "my_doi.users.append('dignizio@usgs.gov')"
   ]
  },
  {
   "cell_type": "code",
   "execution_count": 44,
   "metadata": {},
   "outputs": [
    {
     "data": {
      "text/plain": [
       "['talbertc@usgs.gov',\n",
       " 'sciencebase@ornl.gov',\n",
       " 'hbattlesmanley@contractor.usgs.gov',\n",
       " 'dignizio@usgs.gov']"
      ]
     },
     "execution_count": 44,
     "metadata": {},
     "output_type": "execute_result"
    }
   ],
   "source": [
    "my_doi.users"
   ]
  },
  {
   "cell_type": "code",
   "execution_count": 45,
   "metadata": {},
   "outputs": [],
   "source": [
    "my_doi.update_record()"
   ]
  },
  {
   "cell_type": "code",
   "execution_count": 47,
   "metadata": {},
   "outputs": [],
   "source": [
    "my_doi.username = 'talbertc@usgs.gov'"
   ]
  },
  {
   "cell_type": "code",
   "execution_count": 48,
   "metadata": {},
   "outputs": [],
   "source": [
    "my_doi.update_record()"
   ]
  },
  {
   "cell_type": "code",
   "execution_count": 63,
   "metadata": {},
   "outputs": [],
   "source": [
    "my_dois = doi_session.get_my_dois()"
   ]
  },
  {
   "cell_type": "code",
   "execution_count": 66,
   "metadata": {},
   "outputs": [
    {
     "name": "stdout",
     "output_type": "stream",
     "text": [
      "doi:10.5066/F7B27SSW Workflow to create global species distribution model for Bombina orientalis, Xenopus laevis, and Pom\n",
      "doi:10.5066/P9K11LGN Laboratory Data on Cabbage Looper Moth Response to Xanthotoxin, 2018\n",
      "doi:10.5066/P9O877CJ k Disturbance Buffer Analysis data, Western Colorado, Derived from Gunnison Sage Grouse Location Dat\n",
      "doi:10.5066/P93NIUYM Metagenetic analysis of stream community composition based on environmental DNA\n",
      "doi:10.5066/F76W988R Photographs Showing Change in Riparian Vegetation in the Grand Canyon, 1889, 1991, 2010 and other ye\n",
      "doi:10.5066/P93OMPVO Habitat characterization around standard brown treesnake traps on Guam, 2004 - 2017\n",
      "doi:10.5066/P9SY23J3 Spatial datasets to support analysis of the influence of tributary junctions on patterns of fluvial \n",
      "doi:10.5066/F7GM86GZ Sample collection information, single nucleotide polymorphism, and microsatellite data for white-tai\n",
      "doi:10.5066/P9O75YDV North American Bat Monitoring Program (NABat) Master Sample and Grid-Based Sampling Frame\n",
      "doi:10.5066/P9RRWXL6 Attributed North American Bat Monitoring Program (NABat) Master Sample and Grid-Based Sampling Frame\n",
      "doi:10.5066/P9M00P17 North American Grid-Based Sampling Frame\n",
      "doi:10.5066/F73N22PN Sample collection information and microsatellite data for greater sage-grouse across the species ran\n",
      "doi:10.5066/P9QTSAHY Visual Surveys Rapid Response Saipan 2016\n",
      "doi:10.5066/P9JZZE4W Data for modeling tegu lizard distributions in the Americas\n",
      "doi:10.5066/F728063T Indiana Bat fecal DNA study, Indianapolis, IN Summer 2008\n",
      "doi:10.5066/P9YMIVFU Burn severity (2002) and field data (2012) from Tolhuaca National Park (Chile)\n",
      "doi:10.5066/P920WO0Q Evaluating the impact of translocations using genetic information: An example using Gunnison Sage-gr\n",
      "doi:10.5066/P927I36K Spatial data sets to support conservation planning along the Colorado River in Utah\n",
      "doi:10.5066/P9USE8CH Arizona Grasshopper Sparrow nest monitoring data 2011 to 2013\n",
      "doi:10.5066/P9Y99UFF Data for forecasting buffelgrass distribution with global distribution data, local data, and physiol\n",
      "doi:10.5066/F7W37VJW Data for shorebird migration across the prairie potholes in 2002 and 2011\n",
      "doi:10.5066/P98OS2XK Bighorn Mountains, Wyoming Forest Mapping, 2013-2017\n",
      "doi:10.5066/P9SX2FCX Polychlorinated biphenyl concentrations and lipid content in riparian spiders at the Ashtabula River\n",
      "doi:10.5066/F7TX3DPF Woody riparian invasive plant presence, stem density, and rank dominance and environmental condition\n",
      "doi:10.5066/F7KH0MMK Geomorphic, climate, streamflow and vegetation data sets to reconstruct channel and vegetation chang\n",
      "doi:10.5066/P9W0VF4F Data for cheatgrass mapping in Squirrel Creek Wildfire and Arapaho Wildfire, WY in 2014\n",
      "doi:10.5066/P9VLM7Z6 Standardized Precipitation Evaporation Index for the Upper Green River Basin (1896-2017)\n",
      "doi:10.5066/F7C24VQ0 Biophysical assessment for indemnity selection of federal lands in Colorado\n",
      "doi:10.5066/F7RN372X Airsoft electric gun evaluation on Brown Treesnakes, Guam, 2016\n",
      "doi:10.5066/F7GT5MGV Broad-scale assessment of biophysical features in Colorado\n",
      "doi:10.5066/P9LM0J0F Stable carbon and nitrogen isotope data for: 'Ecotoxicoparasitology of the gastrointestinal tracts o\n",
      "doi:10.5066/P9ZNVI1L Caterpillar Defense Variability\n",
      "doi:10.5066/F7M044NW intraguild predation dataset for arthropods on tarweed\n",
      "doi:10.5066/F7571B94 Tolerance, phenology, and resistance data for streptanthus\n",
      "doi:10.5066/F7HD7TV6 Seed set coefficients of variation for two-decade periods (1900-2013)\n",
      "doi:10.5066/F7VQ320K Multimetric Index macroinvertebrate values from the Fountain Creek Basin, Colorado 2005 to 2016.\n",
      "doi:10.5066/F7MW2GCN Landsat classification of surface water for multiple seasons to monitor inundation of playa wetlands\n",
      "doi:10.5066/F7NS0S4R Breeding Bird Survey songbird occurrences during 1977-1979 and 2012-2014 in conterminous U.S.\n",
      "doi:10.5066/F72J6B1M Potential Land-use Intensity, Aridification Trends, Overlap, and Impact Scenarios, Geospatial Data, \n",
      "doi:10.5066/F747493V Datasets of ecological communities (invertebrates and fish), streamflow, habitat, and water quality \n",
      "doi:10.5066/F7PR7V5N Data on deltamethrin resistance in Oropsylla hirsuta fleas from black-tailed prairie dogs in South D\n",
      "doi:10.5066/F7V9870D MetadataWizard\n",
      "doi:10.5066/F75719S0 Water quality, atmospheric nitrogen deposition and herbaceous plant species richness in the USA, 197\n",
      "doi:10.5066/F7S75FH5 Grooming behaviors of black-tailed prairie dogs in Phillips County, Montana, 2006\n",
      "doi:10.5066/F7MW2G32 Demography and habitat use of boreal toads (Anaxyrus boreas) and other amphibians in northern Wyomin\n",
      "doi:10.5066/F78P5Z1X Hydrogen stable isotope data for: 'Mechanisms associated with an advance in the timing of seasonal r\n",
      "doi:10.5066/F7G15ZQ6 Results of a U.S. General Public Survey to Inform the 2018 North American Waterfowl Management Plan \n",
      "doi:10.5066/F71N802D Contaminants and Native Fish Conservation in the Upper Colorado Basin: The forgotten stressors, merc\n",
      "doi:10.5066/F7BK1B8P Provenance, classification, and abundance of RNA sequence fragments used to assess virus infections \n",
      "doi:10.5066/F7000101 Radio telemetry data on nighttime movements of two species of migratory nectar-feeding bats (Leptony\n",
      "doi:10.5066/F7HQ3XV1 Habitat Data for Arizona Grasshopper Sparrow Territories, Nest Plots, and Random Transects, 2009 to \n",
      "doi:10.5066/F7765D89 Strep Herbivore Tolerance\n",
      "doi:10.5066/F73777MK Roadside Survey Data from southeastern Arizona and New Mexico for Grasshopper Sparrow and other gras\n",
      "doi:10.5066/F7SN07DK Dataset: Passive restoration following ungulate removal in a highly disturbed tropical wet forest de\n",
      "doi:10.5066/F7GX492D Life history attributes data for Arizona Grasshopper Sparrow (Ammodramus savannarum ammolegus) in Ar\n",
      "doi:10.5066/F71G0K17 Occurrence of plague epizootics in colonies of black-tailed prairie dogs, Pawnee National Grassland,\n",
      "doi:10.5066/F7ST7NCG Sex, length, total mass, fat mass, and specimen condition data for 248 Burmese pythons (Python bivit\n",
      "doi:10.5066/F7C53JCF Life history attributes data for Arizona Grasshopper Sparrow (Ammodramus savannarum ammolegus) in Ar\n",
      "doi:10.5066/F75X27DH Long-term video surveillance and automated analyses of hibernating bats in Virginia and Indiana, win\n",
      "doi:10.5066/F7Z60M9V Cottonwood Management at Theodore Roosevelt National Park, North Dakota\n",
      "doi:10.5066/F7P26WCG Experimental analysis of Elliptio complanata transcriptional response to salt stress\n",
      "doi:10.5066/F7Z31X54 Removal count data of Veiled Chameleons on Maui, 2002-2012\n",
      "doi:10.5066/F7DR2SZR California spotted owl fledgling counts, climate, and landscape habitat at territories on the Lassen\n",
      "doi:10.5066/F7BR8QDD Analysis of Land Disturbance and Pygmy Rabbit Occupancy Values Associated With Oil and Gas Extractio\n",
      "doi:10.5066/F7J67F5X Cheatgrass mapping in Squirrel Creek Wildfire, WY in 2014\n",
      "doi:10.5066/F70K26RK Evaluating population responses of Greater sage-grouse to variation in public grazing records at bro\n",
      "doi:10.5066/F7J67F4G Data Release for: Ontogenetic and ecological variation in invasion risk of Brown Treesnakes (Boiga i\n"
     ]
    }
   ],
   "source": [
    "for single_doi in my_dois:\n",
    "    if 'afreeman@contractor.usgs.gov' in single_doi.users:\n",
    "        print(single_doi.doi, single_doi.title[:100])"
   ]
  },
  {
   "cell_type": "code",
   "execution_count": null,
   "metadata": {},
   "outputs": [],
   "source": []
  }
 ],
 "metadata": {
  "kernelspec": {
   "display_name": "Python 3",
   "language": "python",
   "name": "python3"
  },
  "language_info": {
   "codemirror_mode": {
    "name": "ipython",
    "version": 3
   },
   "file_extension": ".py",
   "mimetype": "text/x-python",
   "name": "python",
   "nbconvert_exporter": "python",
   "pygments_lexer": "ipython3",
   "version": "3.6.6"
  }
 },
 "nbformat": 4,
 "nbformat_minor": 2
}
