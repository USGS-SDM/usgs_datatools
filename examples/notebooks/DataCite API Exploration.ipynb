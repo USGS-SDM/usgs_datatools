{
 "cells": [
  {
   "cell_type": "markdown",
   "metadata": {},
   "source": [
    "# Exploration Notebook to Compare USGS DOI Tool API to DataCite API\n",
    "Please be sure to review the other notebook in the GitHub repo before working with this notebook."
   ]
  },
  {
   "cell_type": "code",
   "execution_count": null,
   "metadata": {},
   "outputs": [],
   "source": [
    "# https://support.datacite.org/docs/api-queries"
   ]
  },
  {
   "cell_type": "code",
   "execution_count": 34,
   "metadata": {},
   "outputs": [],
   "source": [
    "import requests\n",
    "import json\n",
    "import pprint"
   ]
  },
  {
   "cell_type": "code",
   "execution_count": null,
   "metadata": {},
   "outputs": [],
   "source": [
    "# Queries by default search all fields, but a specific field can be provided in the query.\n",
    "data_cite_query = requests.get('https://api.datacite.org/dois?query=10.5066')\n",
    "json_data = json.loads(data_cite_query.text)\n",
    "for iDOI in json_data['data']:\n",
    "    pprint.pprint(iDOI)"
   ]
  },
  {
   "cell_type": "code",
   "execution_count": null,
   "metadata": {},
   "outputs": [],
   "source": [
    "data_cite_query = requests.get('https://api.datacite.org/dois?provider-id=usgs')\n",
    "data_cite_query.text"
   ]
  },
  {
   "cell_type": "markdown",
   "metadata": {},
   "source": [
    "## Compare response from DataCite to USGS DOI tool"
   ]
  },
  {
   "cell_type": "markdown",
   "metadata": {},
   "source": [
    "### DataCite API"
   ]
  },
  {
   "cell_type": "code",
   "execution_count": 62,
   "metadata": {},
   "outputs": [
    {
     "data": {
      "text/plain": [
       "{'id': '10.5066/p9vrv6us',\n",
       " 'type': 'dois',\n",
       " 'attributes': {'doi': '10.5066/p9vrv6us',\n",
       "  'identifiers': [{'identifier': 'https://doi.org/10.5066/p9vrv6us',\n",
       "    'identifierType': 'DOI'}],\n",
       "  'creators': [{'name': 'Clune, John',\n",
       "    'nameType': 'Personal',\n",
       "    'givenName': 'John',\n",
       "    'familyName': 'Clune',\n",
       "    'nameIdentifiers': [{'nameIdentifier': 'https://orcid.org/0000-0002-3563-1975',\n",
       "      'nameIdentifierScheme': 'ORCID'}]}],\n",
       "  'titles': [{'title': 'Compilation of data not available in the National Water Information System for domestic wells sampled by the U.S. Geological Survey in Bradford County, Pennsylvania, May-August 2016'}],\n",
       "  'publisher': 'U.S. Geological Survey',\n",
       "  'container': {},\n",
       "  'publicationYear': 2018,\n",
       "  'subjects': [{'subject': 'Geochemistry,Water Quality,Water Resources'}],\n",
       "  'contributors': [],\n",
       "  'dates': [{'date': '2018', 'dateType': 'Issued'}],\n",
       "  'language': None,\n",
       "  'types': {'ris': 'DATA',\n",
       "   'bibtex': 'misc',\n",
       "   'citeproc': 'dataset',\n",
       "   'schemaOrg': 'Dataset',\n",
       "   'resourceType': 'Dataset',\n",
       "   'resourceTypeGeneral': 'Dataset'},\n",
       "  'relatedIdentifiers': [],\n",
       "  'sizes': [],\n",
       "  'formats': [],\n",
       "  'version': None,\n",
       "  'rightsList': [],\n",
       "  'descriptions': [{'description': 'This dataset contains the lithologic class and topographic position index information and quality-assurance and quality-control data not available in the online National Water Information System for 72 domestic wells sampled by the U.S. Geological Survey in Bradford County, Pennsylvania, May-August 2016. The topographic position index (TPI) for each well location was computed on the basis of a 25-meter digital elevation model (U.S. Geological Survey, 2009) using criteria reported by Llewellyn (2014) to indicate potential classes for topographic setting. The bedrock geologic unit and primary lithology were determined for each well location on the basis of the digital bedrock geologic map of Pennsylvania (Miles and Whitfield, 2001). The quality-assurance and quality-control data (such as blanks or replicates) were collected at a subset of sites to ensure that the data met specific data-quality objectives outlined for the study.',\n",
       "    'descriptionType': 'Abstract'}],\n",
       "  'geoLocations': [],\n",
       "  'fundingReferences': [],\n",
       "  'url': 'https://www.sciencebase.gov/catalog/item/5bec268fe4b0b3fc5cf913d4',\n",
       "  'contentUrl': None,\n",
       "  'metadataVersion': 0,\n",
       "  'schemaVersion': None,\n",
       "  'source': 'mds',\n",
       "  'isActive': True,\n",
       "  'state': 'findable',\n",
       "  'reason': None,\n",
       "  'created': '2018-11-30T18:49:44.000Z',\n",
       "  'registered': '2018-11-30T18:49:45.000Z',\n",
       "  'published': '2018',\n",
       "  'updated': '2019-05-02T14:32:15.000Z'},\n",
       " 'relationships': {'client': {'data': {'id': 'usgs.prod', 'type': 'clients'}}}}"
      ]
     },
     "execution_count": 62,
     "metadata": {},
     "output_type": "execute_result"
    }
   ],
   "source": [
    "#Not caps senstive, note available fields\n",
    "datacite_query = requests.get('https://api.datacite.org/dois?query=10.5066/p9vrv6us')\n",
    "datacite_json = json.loads(datacite_query.text)\n",
    "datacite_json['data'][0]"
   ]
  },
  {
   "cell_type": "code",
   "execution_count": 67,
   "metadata": {},
   "outputs": [
    {
     "data": {
      "text/plain": [
       "dict_keys(['id', 'type', 'attributes', 'relationships'])"
      ]
     },
     "execution_count": 67,
     "metadata": {},
     "output_type": "execute_result"
    }
   ],
   "source": [
    "x = datacite_json['data'][0]\n",
    "x.keys()"
   ]
  },
  {
   "cell_type": "code",
   "execution_count": 69,
   "metadata": {},
   "outputs": [
    {
     "name": "stdout",
     "output_type": "stream",
     "text": [
      "doi\n",
      "identifiers\n",
      "creators\n",
      "titles\n",
      "publisher\n",
      "container\n",
      "publicationYear\n",
      "subjects\n",
      "contributors\n",
      "dates\n",
      "language\n",
      "types\n",
      "relatedIdentifiers\n",
      "sizes\n",
      "formats\n",
      "version\n",
      "rightsList\n",
      "descriptions\n",
      "geoLocations\n",
      "fundingReferences\n",
      "url\n",
      "contentUrl\n",
      "metadataVersion\n",
      "schemaVersion\n",
      "source\n",
      "isActive\n",
      "state\n",
      "reason\n",
      "created\n",
      "registered\n",
      "published\n",
      "updated\n"
     ]
    }
   ],
   "source": [
    "x = datacite_json['data'][0]['attributes']\n",
    "for key in x:\n",
    "    print (key)"
   ]
  },
  {
   "cell_type": "markdown",
   "metadata": {},
   "source": [
    "### USGS Data Tools DOI API"
   ]
  },
  {
   "cell_type": "code",
   "execution_count": 50,
   "metadata": {},
   "outputs": [],
   "source": [
    "import getpass\n",
    "from usgs_datatools import doi\n",
    "\n",
    "#DoiSession = doi.DoiSession(env='production')  # Production\n",
    "#DoiSession = doi.DoiSession(env='staging')  # Staging\n",
    "#*Note: User must be on the USGS network or VPN to successfully use the staging environment.*\n",
    "DoiSession = doi.DoiSession(env='production')"
   ]
  },
  {
   "cell_type": "code",
   "execution_count": 52,
   "metadata": {},
   "outputs": [
    {
     "name": "stdout",
     "output_type": "stream",
     "text": [
      "USGS AD Password: ········\n",
      "*Complete*\n"
     ]
    }
   ],
   "source": [
    "username = 'dignizio@usgs.gov'\n",
    "password = getpass.getpass('USGS AD Password: ')\n",
    "print('*Complete*')"
   ]
  },
  {
   "cell_type": "code",
   "execution_count": 53,
   "metadata": {},
   "outputs": [
    {
     "name": "stdout",
     "output_type": "stream",
     "text": [
      "Successfully authenticated.\n"
     ]
    }
   ],
   "source": [
    "DoiSession.doi_authenticate(username, password)\n",
    "print (\"Successfully authenticated.\")"
   ]
  },
  {
   "cell_type": "code",
   "execution_count": 58,
   "metadata": {
    "scrolled": true
   },
   "outputs": [
    {
     "data": {
      "text/plain": [
       "{'doi': 'doi:10.5066/F7W0944J',\n",
       " 'title': 'North American Breeding Bird Survey Dataset 1966 - 2016, version 2016.0',\n",
       " 'pubDate': '2017',\n",
       " 'url': 'ftp://ftpext.usgs.gov/pub/er/md/laurel/BBS/Archivefiles/Version2016v0/',\n",
       " 'resourceType': 'Dataset',\n",
       " 'date': '1966/2016',\n",
       " 'dateType': 'Collected',\n",
       " 'description': 'The 1966-2016 North American Breeding Bird Survey dataset contains avian point count data for more than 700 North American bird taxa (primarily species, but also some races and unidentified species groupings).  These data are collected annually during the breeding season, primarily June and May, along thousands of randomly established roadside survey routes in the United States and Canada. Routes are about 24.5 miles (39.2 km) long with counting locations placed at regular intervals, for a total of 50 stops. At each stop, a person highly skilled in avian identification conducts a 3-minute point count, recording every bird seen within a quarter-mile (400-m) radius and every bird heard.  Surveys begin 30 minutes before local sunrise and take approximately 5 hours to complete.  A route is sampled once per year, with the total number of routes sampled per year growing over time; about 600 routes were sampled in 1966, while in recent decades approximately 3000 routes have been sampled annually.  In addition to avian count data, this dataset also contains date route sampled, survey start and end times, start and end weather conditions, a unique observer identification number, route identification information, route location information including geographic coordinates of route start point, and an indicator of sample quality.',\n",
       " 'subject': 'North American bird population data; relative abundance and distribution information for approx. 600 species',\n",
       " 'username': 'kpardieck@usgs.gov',\n",
       " 'status': 'public',\n",
       " 'noDataReleaseAvailableReason': 'APPROVED_AT_CENTER',\n",
       " 'noPublicationIdAvailable': True,\n",
       " 'dataSourceId': 17193,\n",
       " 'dataSourceName': 'Patuxent Wildlife Research Center',\n",
       " 'linkCheckingStatus': 'TIMED OUT 20190425',\n",
       " 'formatTypes': ['csv'],\n",
       " 'authors': [{'authorName': 'Hudson, Marie-Anne R.',\n",
       "   'orcId': '',\n",
       "   'nameType': 'Personal',\n",
       "   'position': 0},\n",
       "  {'authorName': 'Lutmerding, Michael',\n",
       "   'orcId': '',\n",
       "   'nameType': 'Personal',\n",
       "   'position': 1},\n",
       "  {'authorName': 'Campbell, Kate',\n",
       "   'orcId': '',\n",
       "   'nameType': 'Personal',\n",
       "   'position': 2},\n",
       "  {'authorName': 'Pardieck, Keith L.',\n",
       "   'orcId': '',\n",
       "   'nameType': 'Personal',\n",
       "   'position': 3},\n",
       "  {'authorName': 'Ziolkowski Jr., David',\n",
       "   'orcId': '0000-0002-2500-4417',\n",
       "   'nameType': 'Personal',\n",
       "   'position': 4}],\n",
       " 'users': ['kpardieck@usgs.gov', 'dziolkowski@usgs.gov'],\n",
       " 'relatedIdentifiers': [{'relatedIdentifier': 'https://doi.org/10.5066/F76972V8',\n",
       "   'dataciteRelationType': 'IS_PREVIOUS_VERSION_OF',\n",
       "   'usgsRelationSubType': None}],\n",
       " 'ipdsNumbers': [],\n",
       " 'created': '2018-05-02',\n",
       " 'modified': '2019-04-18'}"
      ]
     },
     "execution_count": 58,
     "metadata": {},
     "output_type": "execute_result"
    }
   ],
   "source": [
    "# Note the raw URL being accessed under the hood with the function.\n",
    "# This is worth noting when comparing to the documentation for REST endpoint.\n",
    "# ('https://www1.usgs.gov/csas/dmapi/doi/doi:10.5066/P9VRV6US') Caps sensitive. Uses colon.\n",
    "usgs_doi = DoiSession.get_doi('doi:10.5066/F7W0944J')\n",
    "usgs_doi"
   ]
  },
  {
   "cell_type": "code",
   "execution_count": 59,
   "metadata": {},
   "outputs": [
    {
     "name": "stdout",
     "output_type": "stream",
     "text": [
      "doi\n",
      "title\n",
      "pubDate\n",
      "url\n",
      "resourceType\n",
      "date\n",
      "dateType\n",
      "description\n",
      "subject\n",
      "username\n",
      "status\n",
      "noDataReleaseAvailableReason\n",
      "noPublicationIdAvailable\n",
      "dataSourceId\n",
      "dataSourceName\n",
      "linkCheckingStatus\n",
      "formatTypes\n",
      "authors\n",
      "users\n",
      "relatedIdentifiers\n",
      "ipdsNumbers\n",
      "created\n",
      "modified\n"
     ]
    }
   ],
   "source": [
    "for field in usgs_doi.keys():\n",
    "    print (field)"
   ]
  },
  {
   "cell_type": "code",
   "execution_count": null,
   "metadata": {},
   "outputs": [],
   "source": []
  }
 ],
 "metadata": {
  "kernelspec": {
   "display_name": "Python 3",
   "language": "python",
   "name": "python3"
  },
  "language_info": {
   "codemirror_mode": {
    "name": "ipython",
    "version": 3
   },
   "file_extension": ".py",
   "mimetype": "text/x-python",
   "name": "python",
   "nbconvert_exporter": "python",
   "pygments_lexer": "ipython3",
   "version": "3.7.1"
  }
 },
 "nbformat": 4,
 "nbformat_minor": 2
}
