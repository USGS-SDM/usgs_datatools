{
 "cells": [
  {
   "cell_type": "markdown",
   "metadata": {},
   "source": [
    "## Examples of USGS DOI Tool Python Module\n",
    "For now, plan to download the ```usgs_doi.py``` python file and place it alongside the script or notebook you will be using. This may in the future become a package. "
   ]
  },
  {
   "cell_type": "code",
   "execution_count": null,
   "metadata": {
    "collapsed": true
   },
   "outputs": [],
   "source": [
    "import os\n",
    "import time\n",
    "import json\n",
    "import yaml\n",
    "import requests\n",
    "\n",
    "import usgs_datatools.doi as doi  # Custom module (place in current folder)."
   ]
  },
  {
   "cell_type": "markdown",
   "metadata": {},
   "source": [
    "### Configuration\n",
    "Credentials for tools expects a valid USGS Active Directory account formatted as, username@usgs.gov. "
   ]
  },
  {
   "cell_type": "code",
   "execution_count": null,
   "metadata": {
    "collapsed": true
   },
   "outputs": [],
   "source": [
    "credentials = yaml.load(open(os.path.expanduser('~') + '/cred.yaml').read())\n",
    "doi_session = requests.Session()  # Create session object to use throughout requests\n",
    "doi_p = 'doi:10.5066/F7SB43S8'  # Sample production DOI my user has access to\n",
    "doi_s = 'doi:10.5072/FK2J38SV7D'  # Sample staging DOI my user has access to\n",
    "cur_time = time.strftime(\"%Y-%m-%d %H:%M\", time.gmtime())  # Time stamp for testing"
   ]
  },
  {
   "cell_type": "markdown",
   "metadata": {},
   "source": [
    "### Authentication\n",
    "Feel free to edit your own username/password here, they are accepted as strings"
   ]
  },
  {
   "cell_type": "code",
   "execution_count": null,
   "metadata": {},
   "outputs": [],
   "source": [
    "doi_session, cookie_jar = doi.doi_authenticate(doi_session, 'p', credentials['application_credentials']['username'], \n",
    "                                          credentials['application_credentials']['password'])"
   ]
  },
  {
   "cell_type": "markdown",
   "metadata": {},
   "source": [
    "### Fetch DOI Attributes \n",
    "A quick note, the \"get_doi\" function doesn't fetch the correct status so in the scenario you are editing a reserved (on hold) DOI and want it to remain reserved (on hold - not public) please change the status value to \"reserved\". Otherwise this will default to public"
   ]
  },
  {
   "cell_type": "code",
   "execution_count": null,
   "metadata": {
    "scrolled": false
   },
   "outputs": [],
   "source": [
    "doi_session, sample_doi = doi.get_doi(doi_session, 'P', doi_p, cookie_jar)\n",
    "sample_doi  # Display DOI attributes currently. "
   ]
  },
  {
   "cell_type": "code",
   "execution_count": null,
   "metadata": {},
   "outputs": [],
   "source": [
    "# Change DOI attributes. \n",
    "sample_doi['status'] = 'reserved'\n",
    "sample_doi['title'] = 'SERVICE TEST ITEM ' + cur_time\n",
    "sample_doi  # Display to verify."
   ]
  },
  {
   "cell_type": "markdown",
   "metadata": {},
   "source": [
    "### Update Existing DOI"
   ]
  },
  {
   "cell_type": "code",
   "execution_count": null,
   "metadata": {
    "scrolled": false
   },
   "outputs": [],
   "source": [
    "test_update = doi.doi_update(doi_session, 'p', sample_doi, cookie_jar, cur_time)"
   ]
  },
  {
   "cell_type": "markdown",
   "metadata": {},
   "source": [
    "### Test if DOI Updated"
   ]
  },
  {
   "cell_type": "code",
   "execution_count": null,
   "metadata": {},
   "outputs": [],
   "source": [
    "sess, sample_doi = doi.get_doi(doi_session, 'p', doi_p, cookie_jar)\n",
    "sample_doi"
   ]
  },
  {
   "cell_type": "markdown",
   "metadata": {},
   "source": [
    "### Create New DOI"
   ]
  },
  {
   "cell_type": "code",
   "execution_count": null,
   "metadata": {
    "collapsed": true
   },
   "outputs": [],
   "source": [
    "new_doi = usgs_doi.doi_create(doi_session, 's', sample_doi, cookie_jar)\n",
    "doi"
   ]
  },
  {
   "cell_type": "markdown",
   "metadata": {},
   "source": [
    "#### References\n",
    "\n",
    "[DOI Tool Staging](https://www1-staging.snafu.cr.usgs.gov/csas/doi/)\n",
    "\n",
    "[DOI Tool Production](https://www1.usgs.gov/csas/doi/)"
   ]
  }
 ],
 "metadata": {
  "anaconda-cloud": {},
  "kernelspec": {
   "display_name": "py2",
   "language": "python",
   "name": "py2"
  },
  "language_info": {
   "codemirror_mode": {
    "name": "ipython",
    "version": 2
   },
   "file_extension": ".py",
   "mimetype": "text/x-python",
   "name": "python",
   "nbconvert_exporter": "python",
   "pygments_lexer": "ipython2",
   "version": "2.7.11"
  }
 },
 "nbformat": 4,
 "nbformat_minor": 1
}
