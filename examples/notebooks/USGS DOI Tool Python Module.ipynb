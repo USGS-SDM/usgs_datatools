{
 "cells": [
  {
   "cell_type": "markdown",
   "metadata": {},
   "source": [
    "## USGS DOI Tool Python Module Examples\n",
    "The USGS Digitial Object Identifier tool mints unique indentifers, it's important to be mindful of any development testing so large amounts of DOI's are not accidentally created or set to published. The USGS DOI Tool staging environment can help you as you develop a workflow. Any DOI that is created there is assigned a 10.5072 DOI where they will never be sent to DataCite to mint. "
   ]
  },
  {
   "cell_type": "code",
   "execution_count": null,
   "metadata": {
    "collapsed": true
   },
   "outputs": [],
   "source": [
    "import os\n",
    "import time\n",
    "import json\n",
    "import requests\n",
    "import getpass\n",
    "\n",
    "from usgs_datatools import doi\n",
    "from usgs_datatools.doi import add_primary_doi_manager"
   ]
  },
  {
   "cell_type": "markdown",
   "metadata": {},
   "source": [
    "### Configuration\n",
    "The tool expects a valid USGS Active Directory account formatted as, username@usgs.gov. "
   ]
  },
  {
   "cell_type": "code",
   "execution_count": null,
   "metadata": {
    "collapsed": false
   },
   "outputs": [],
   "source": [
    "doi_p = 'doi:10.5066/F7SB43S8'  # Sample production DOI my user has access to\n",
    "doi_s = 'doi:10.5072/FK2J38SV7D'  # Sample staging DOI my user has access to\n",
    "\n",
    "username = 'jsmith@usgs.gov'\n",
    "password = getpass.getpass('USGS AD Password: ')"
   ]
  },
  {
   "cell_type": "markdown",
   "metadata": {},
   "source": [
    "### Create DOI Tool Session\n",
    "This is where you can specify your DOI Tool environment, (production and staging)."
   ]
  },
  {
   "cell_type": "code",
   "execution_count": null,
   "metadata": {
    "collapsed": false
   },
   "outputs": [],
   "source": [
    "#doi_session = doi.DoiSession()  # Production\n",
    "DoiSession = doi.DoiSession(env='staging')  # Staging"
   ]
  },
  {
   "cell_type": "markdown",
   "metadata": {},
   "source": [
    "### Authentication"
   ]
  },
  {
   "cell_type": "code",
   "execution_count": null,
   "metadata": {
    "collapsed": false
   },
   "outputs": [],
   "source": [
    "DoiSession.doi_authenticate(username, password)"
   ]
  },
  {
   "cell_type": "markdown",
   "metadata": {},
   "source": [
    "### Fetch DOI Attributes \n",
    "A quick note, the \"get_doi\" function doesn't always fetch the correct status so in the scenario you are editing a reserved (on hold) DOI and want it to remain reserved (on hold - not public) please change the status value to \"reserved\". Otherwise this will default to public"
   ]
  },
  {
   "cell_type": "code",
   "execution_count": null,
   "metadata": {
    "collapsed": false
   },
   "outputs": [],
   "source": [
    "# Get doi\n",
    "sample_doi = DoiSession.get_doi(doi_s)\n",
    "\n",
    "# Change DOI attributes. \n",
    "sample_doi['status'] = 'reserved'\n",
    "sample_doi['title'] = 'SERVICE TEST ITEM ' + cur_time\n",
    "sample_doi  # Display to verify."
   ]
  },
  {
   "cell_type": "markdown",
   "metadata": {},
   "source": [
    "### Update Existing DOI"
   ]
  },
  {
   "cell_type": "code",
   "execution_count": null,
   "metadata": {
    "collapsed": false,
    "scrolled": false
   },
   "outputs": [],
   "source": [
    "test_update = DoiSession.doi_update(sample_doi)"
   ]
  },
  {
   "cell_type": "markdown",
   "metadata": {},
   "source": [
    "### Test if DOI Updated"
   ]
  },
  {
   "cell_type": "code",
   "execution_count": null,
   "metadata": {
    "collapsed": false
   },
   "outputs": [],
   "source": [
    "did_it_update = DoiSession.get_doi(sample_doi['identifier'])\n",
    "did_it_update"
   ]
  },
  {
   "cell_type": "markdown",
   "metadata": {},
   "source": [
    "### Create New DOI\n",
    "The same application rules are still in place here. Keep in mind, DOIs cannot have the same resourceURL as another. "
   ]
  },
  {
   "cell_type": "code",
   "execution_count": null,
   "metadata": {
    "collapsed": false
   },
   "outputs": [],
   "source": [
    "# Get the sample doi and make slight updates. \n",
    "did_it_update['title'] = 'TEST Create New ' \n",
    "did_it_update['identifier'] = ''\n",
    "did_it_update['status'] = 'reserved'\n",
    "did_it_update['resourceURL'] = ''\n",
    "\n",
    "# Add additional DOI Tool manager (primary). \n",
    "add_primary_doi_manager(did_it_update, 'janesmith@usgs.gov')\n",
    "\n",
    "# Create new doi\n",
    "DoiSession.doi_create(did_it_update)"
   ]
  },
  {
   "cell_type": "markdown",
   "metadata": {},
   "source": [
    "#### References\n",
    "\n",
    "[DOI Tool Staging](https://www1-staging.snafu.cr.usgs.gov/csas/doi/)\n",
    "\n",
    "[DOI Tool Production](https://www1.usgs.gov/csas/doi/)"
   ]
  }
 ],
 "metadata": {
  "anaconda-cloud": {},
  "kernelspec": {
   "display_name": "py3.5",
   "language": "python",
   "name": "py3.5"
  },
  "language_info": {
   "codemirror_mode": {
    "name": "ipython",
    "version": 3
   },
   "file_extension": ".py",
   "mimetype": "text/x-python",
   "name": "python",
   "nbconvert_exporter": "python",
   "pygments_lexer": "ipython3",
   "version": "3.5.1"
  }
 },
 "nbformat": 4,
 "nbformat_minor": 1
}
