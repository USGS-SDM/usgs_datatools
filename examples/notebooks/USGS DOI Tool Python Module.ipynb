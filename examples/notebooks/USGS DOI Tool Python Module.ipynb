{
 "cells": [
  {
   "cell_type": "markdown",
   "metadata": {},
   "source": [
    "# USGS DOI Tool Python Module Examples\n",
    "The USGS Digital Object Identifier tool mints unique indentifers for USGS products. Please be mindful of any development testing so large amounts of DOIs are not accidentally created or set to 'published'.  Once published a DOI must persist through time (it can not be deleted). The USGS DOI Tool staging environment can help you as you develop a workflow. Any DOI that is created there is assigned a 10.5072 DOI which will not be sent to DataCite to mint.\n",
    "\n",
    "This module requires the usgs_datatools package which can be installed using:\n",
    "\n",
    "\"pip install git+https://github.com/bserna-usgs/usgs_datatools.git\""
   ]
  },
  {
   "cell_type": "code",
   "execution_count": 14,
   "metadata": {},
   "outputs": [],
   "source": [
    "import os\n",
    "import json\n",
    "import requests\n",
    "import getpass\n",
    "from usgs_datatools import doi"
   ]
  },
  {
   "cell_type": "markdown",
   "metadata": {},
   "source": [
    "### Configuration\n",
    "The tool expects a valid USGS Active Directory account formatted as: username@usgs.gov. "
   ]
  },
  {
   "cell_type": "code",
   "execution_count": 15,
   "metadata": {},
   "outputs": [
    {
     "name": "stdout",
     "output_type": "stream",
     "text": [
      "USGS AD Password: ········\n",
      "*Complete*\n"
     ]
    }
   ],
   "source": [
    "username = 'dignizio@usgs.gov'\n",
    "password = getpass.getpass('USGS AD Password: ')\n",
    "print('*Complete*')"
   ]
  },
  {
   "cell_type": "markdown",
   "metadata": {},
   "source": [
    "# Example 1 - Reading Existing DOIs"
   ]
  },
  {
   "cell_type": "markdown",
   "metadata": {},
   "source": [
    "### Establish a DOI Tool Session (production)\n",
    "A DOI Session object is instantiated against a particular DOI Tool environment, ('production' or 'staging'). For the example of reading from an existing well-formed DOI, the 'production' environment is specified."
   ]
  },
  {
   "cell_type": "code",
   "execution_count": 16,
   "metadata": {},
   "outputs": [],
   "source": [
    "#DoiSession = doi.DoiSession(env='production')  # Production\n",
    "#DoiSession = doi.DoiSession(env='staging')  # Staging\n",
    "#*Note: User must be on the USGS network or VPN to successfully use the staging environment.*\n",
    "DoiSession = doi.DoiSession(env='production')"
   ]
  },
  {
   "cell_type": "markdown",
   "metadata": {},
   "source": [
    "### Authentication"
   ]
  },
  {
   "cell_type": "code",
   "execution_count": 17,
   "metadata": {},
   "outputs": [
    {
     "name": "stdout",
     "output_type": "stream",
     "text": [
      "Successfully authenticated.\n"
     ]
    }
   ],
   "source": [
    "DoiSession.doi_authenticate(username, password)\n",
    "print (\"Successfully authenticated.\")"
   ]
  },
  {
   "cell_type": "markdown",
   "metadata": {},
   "source": [
    "### Fetch DOI Attributes"
   ]
  },
  {
   "cell_type": "code",
   "execution_count": 18,
   "metadata": {},
   "outputs": [
    {
     "data": {
      "text/plain": [
       "{'doi': 'doi:10.5066/F7W0944J',\n",
       " 'title': 'North American Breeding Bird Survey Dataset 1966 - 2016, version 2016.0',\n",
       " 'pubDate': '2017',\n",
       " 'url': 'ftp://ftpext.usgs.gov/pub/er/md/laurel/BBS/Archivefiles/Version2016v0/',\n",
       " 'resourceType': 'Dataset',\n",
       " 'date': '1966/2016',\n",
       " 'dateType': 'Collected',\n",
       " 'description': 'The 1966-2016 North American Breeding Bird Survey dataset contains avian point count data for more than 700 North American bird taxa (primarily species, but also some races and unidentified species groupings).  These data are collected annually during the breeding season, primarily June and May, along thousands of randomly established roadside survey routes in the United States and Canada. Routes are about 24.5 miles (39.2 km) long with counting locations placed at regular intervals, for a total of 50 stops. At each stop, a person highly skilled in avian identification conducts a 3-minute point count, recording every bird seen within a quarter-mile (400-m) radius and every bird heard.  Surveys begin 30 minutes before local sunrise and take approximately 5 hours to complete.  A route is sampled once per year, with the total number of routes sampled per year growing over time; about 600 routes were sampled in 1966, while in recent decades approximately 3000 routes have been sampled annually.  In addition to avian count data, this dataset also contains date route sampled, survey start and end times, start and end weather conditions, a unique observer identification number, route identification information, route location information including geographic coordinates of route start point, and an indicator of sample quality.',\n",
       " 'subject': 'North American bird population data; relative abundance and distribution information for approx. 600 species',\n",
       " 'username': 'kpardieck@usgs.gov',\n",
       " 'status': 'public',\n",
       " 'noDataReleaseAvailableReason': 'APPROVED_AT_CENTER',\n",
       " 'noPublicationIdAvailable': True,\n",
       " 'dataSourceId': 17193,\n",
       " 'dataSourceName': 'Patuxent Wildlife Research Center',\n",
       " 'linkCheckingStatus': 'Valid Link',\n",
       " 'formatTypes': ['csv'],\n",
       " 'authors': [{'authorName': 'Hudson, Marie-Anne R.',\n",
       "   'orcId': '',\n",
       "   'nameType': 'Personal',\n",
       "   'position': 0},\n",
       "  {'authorName': 'Lutmerding, Michael',\n",
       "   'orcId': '',\n",
       "   'nameType': 'Personal',\n",
       "   'position': 1},\n",
       "  {'authorName': 'Campbell, Kate',\n",
       "   'orcId': '',\n",
       "   'nameType': 'Personal',\n",
       "   'position': 2},\n",
       "  {'authorName': 'Pardieck, Keith L.',\n",
       "   'orcId': '',\n",
       "   'nameType': 'Personal',\n",
       "   'position': 3},\n",
       "  {'authorName': 'Ziolkowski Jr., David',\n",
       "   'orcId': '0000-0002-2500-4417',\n",
       "   'nameType': 'Personal',\n",
       "   'position': 4}],\n",
       " 'users': ['kpardieck@usgs.gov', 'dziolkowski@usgs.gov'],\n",
       " 'relatedIdentifiers': [{'relatedIdentifier': 'https://doi.org/10.5066/F76972V8',\n",
       "   'dataciteRelationType': 'IS_PREVIOUS_VERSION_OF',\n",
       "   'usgsRelationSubType': None,\n",
       "   'relatedIdentifierType': 'DOI'}],\n",
       " 'ipdsNumbers': [],\n",
       " 'created': '2018-05-02',\n",
       " 'modified': '2019-04-18'}"
      ]
     },
     "execution_count": 18,
     "metadata": {},
     "output_type": "execute_result"
    }
   ],
   "source": [
    "## Note the expected format for the DOI string param passed to the get_doi function is 'doi:10.5066/XXXXXXXX'\n",
    "## Example published DOIs that are well-formatted and illustrate the structure of the DOI model:\n",
    "#'doi:10.5066/F73F4NVM'\n",
    "#'doi:10.5066/F76972V8'\n",
    "#'doi:10.5066/F7W0944J'\n",
    "    \n",
    "myDoi = DoiSession.get_doi('doi:10.5066/F7W0944J')\n",
    "myDoi"
   ]
  },
  {
   "cell_type": "markdown",
   "metadata": {},
   "source": [
    "### Inspect the 'description' element"
   ]
  },
  {
   "cell_type": "code",
   "execution_count": 19,
   "metadata": {
    "scrolled": false
   },
   "outputs": [
    {
     "data": {
      "text/plain": [
       "'The 1966-2016 North American Breeding Bird Survey dataset contains avian point count data for more than 700 North American bird taxa (primarily species, but also some races and unidentified species groupings).  These data are collected annually during the breeding season, primarily June and May, along thousands of randomly established roadside survey routes in the United States and Canada. Routes are about 24.5 miles (39.2 km) long with counting locations placed at regular intervals, for a total of 50 stops. At each stop, a person highly skilled in avian identification conducts a 3-minute point count, recording every bird seen within a quarter-mile (400-m) radius and every bird heard.  Surveys begin 30 minutes before local sunrise and take approximately 5 hours to complete.  A route is sampled once per year, with the total number of routes sampled per year growing over time; about 600 routes were sampled in 1966, while in recent decades approximately 3000 routes have been sampled annually.  In addition to avian count data, this dataset also contains date route sampled, survey start and end times, start and end weather conditions, a unique observer identification number, route identification information, route location information including geographic coordinates of route start point, and an indicator of sample quality.'"
      ]
     },
     "execution_count": 19,
     "metadata": {},
     "output_type": "execute_result"
    }
   ],
   "source": [
    "myDoi['description']"
   ]
  },
  {
   "cell_type": "markdown",
   "metadata": {},
   "source": [
    "### Inspect the 'authors' element\n",
    "Note that the 'authors' element is a list (array) of dictionaries (the 'related identifiers' element is similarly structured)."
   ]
  },
  {
   "cell_type": "code",
   "execution_count": 20,
   "metadata": {},
   "outputs": [
    {
     "data": {
      "text/plain": [
       "[{'authorName': 'Hudson, Marie-Anne R.',\n",
       "  'orcId': '',\n",
       "  'nameType': 'Personal',\n",
       "  'position': 0},\n",
       " {'authorName': 'Lutmerding, Michael',\n",
       "  'orcId': '',\n",
       "  'nameType': 'Personal',\n",
       "  'position': 1},\n",
       " {'authorName': 'Campbell, Kate',\n",
       "  'orcId': '',\n",
       "  'nameType': 'Personal',\n",
       "  'position': 2},\n",
       " {'authorName': 'Pardieck, Keith L.',\n",
       "  'orcId': '',\n",
       "  'nameType': 'Personal',\n",
       "  'position': 3},\n",
       " {'authorName': 'Ziolkowski Jr., David',\n",
       "  'orcId': '0000-0002-2500-4417',\n",
       "  'nameType': 'Personal',\n",
       "  'position': 4}]"
      ]
     },
     "execution_count": 20,
     "metadata": {},
     "output_type": "execute_result"
    }
   ],
   "source": [
    "myDoi['authors']"
   ]
  },
  {
   "cell_type": "markdown",
   "metadata": {},
   "source": [
    "# Example 2 - Creating and Modifying DOIs"
   ]
  },
  {
   "cell_type": "markdown",
   "metadata": {},
   "source": [
    "### Establish a DOI Tool Session (staging)\n",
    "A DOI Session object is instantiated against a particular DOI Tool environment, ('production' or 'staging'). For the example of creating and modifying a DOI, the 'staging' environment is specified. Note that staging DOIs are ephemeral and will be purged every ~2 weeks, thus the example for modifying a DOI starts with creating a new target to work with so this notebook will remain usable.\n",
    "\n",
    "Note that the DOI tool will time-out after a very short period of inactivity...\n",
    "If you receive errors downstream with calls, please ensure the session is still active (re-sign in / establish session)."
   ]
  },
  {
   "cell_type": "code",
   "execution_count": 21,
   "metadata": {},
   "outputs": [],
   "source": [
    "#DoiSession = doi.DoiSession(env='production')  # Production\n",
    "#DoiSession = doi.DoiSession(env='staging')  # Staging\n",
    "#*Note: User must be on the USGS network or VPN to successfully use the staging environment.*\n",
    "DoiSession = doi.DoiSession(env='staging')"
   ]
  },
  {
   "cell_type": "markdown",
   "metadata": {},
   "source": [
    "### Authentication"
   ]
  },
  {
   "cell_type": "code",
   "execution_count": 22,
   "metadata": {},
   "outputs": [
    {
     "name": "stdout",
     "output_type": "stream",
     "text": [
      "Successfully authenticated.\n"
     ]
    }
   ],
   "source": [
    "DoiSession.doi_authenticate(username, password)\n",
    "print (\"Successfully authenticated.\")"
   ]
  },
  {
   "cell_type": "markdown",
   "metadata": {},
   "source": [
    "### Create New DOI\n",
    "The same application rules are still in place here. Keep in mind, DOIs cannot have the same resource URL as another.  Please see references below (end of Notebook for additional details on valid fields in the DOI model as well). Logged-in users, see: https://www1.usgs.gov/csas/doi/web_services.html#/Read_DOI/read1 for full schema mapping.\n",
    "\n",
    "For initial creation of a new DOI (in production) it is recommended to set the status to 'reserved'.  This gives the user an opportunity to inspect and finalize the DOI before it is minted.\n",
    "\n",
    "Key values are caps sensitive.\n",
    "\n",
    "'dataSourceName' undergoes validation against a specific list. Contact DOI Tool team for details..."
   ]
  },
  {
   "cell_type": "code",
   "execution_count": 23,
   "metadata": {
    "scrolled": true
   },
   "outputs": [
    {
     "data": {
      "text/plain": [
       "'doi:10.5072/S9UST85C'"
      ]
     },
     "execution_count": 23,
     "metadata": {},
     "output_type": "execute_result"
    }
   ],
   "source": [
    "# New DOI.\n",
    "doi ={'title': 'A Test DOI Created Through the Python Wrapper for the USGS DOI Tool', \n",
    "      'status':'reserved',\n",
    "      'url':'https://data.usgs.gov/datacatalog/doi-messages/temporary.html', \n",
    "      'description': 'This text block stores an informative textual description of the resource.', \n",
    "      'authors': [{'authorName': 'Ignizio, Drew A.', \n",
    "                   'orcId': '0000-0001-8054-5139', \n",
    "                   'position': '0', \n",
    "                   'nameType': 'Personal'}, \n",
    "                  {'authorName': 'Talbert, Colin B.', \n",
    "                   'orcid': '0000-0002-9505-1876', \n",
    "                   'position': '1', \n",
    "                   'nameType': 'Personal'}, \n",
    "                  {'authorName': 'Zolly, Lisa', \n",
    "                   'orcid': '0000-0003-3595-7809', \n",
    "                   'position': '2', \n",
    "                   'nameType': 'Personal'}, \n",
    "                  {'authorName': 'Unicorn Enterprises Team', \n",
    "                   'position': '3', \n",
    "                   'orcid': '', \n",
    "                   'nameType': 'Organizational'}], \n",
    "      'dataSourceName': 'Science Analytics and Synthesis', \n",
    "      'users': ['dignizio@usgs.gov', 'talbertc@usgs.gov', 'bserna@usgs.gov', 'lisa_zolly@usgs.gov']}\n",
    "\n",
    "newDoi = DoiSession.doi_create(doi) #response will be the new DOI's ID after creation\n",
    "newDoi"
   ]
  },
  {
   "cell_type": "markdown",
   "metadata": {},
   "source": [
    "### Fetch DOI Attributes (pull back the values for the newly created DOI as JSON)"
   ]
  },
  {
   "cell_type": "code",
   "execution_count": 26,
   "metadata": {},
   "outputs": [
    {
     "data": {
      "text/plain": [
       "{'doi': 'doi:10.5072/S9UST85C',\n",
       " 'title': 'A Test DOI Created Through the Python Wrapper for the USGS DOI Tool',\n",
       " 'pubDate': None,\n",
       " 'url': 'https://data.usgs.gov/datacatalog/doi-messages/temporary.html',\n",
       " 'resourceType': None,\n",
       " 'date': None,\n",
       " 'dateType': None,\n",
       " 'description': 'This text block stores an informative textual description of the resource.',\n",
       " 'subject': None,\n",
       " 'username': 'dignizio@usgs.gov',\n",
       " 'status': 'reserved',\n",
       " 'noDataReleaseAvailableReason': None,\n",
       " 'noPublicationIdAvailable': False,\n",
       " 'dataSourceId': 59507,\n",
       " 'dataSourceName': 'Science Analytics and Synthesis',\n",
       " 'linkCheckingStatus': None,\n",
       " 'formatTypes': [],\n",
       " 'authors': [{'authorName': 'Ignizio, Drew A.',\n",
       "   'orcId': '0000-0001-8054-5139',\n",
       "   'nameType': 'Personal',\n",
       "   'position': 0},\n",
       "  {'authorName': 'Talbert, Colin B.',\n",
       "   'orcId': None,\n",
       "   'nameType': 'Personal',\n",
       "   'position': 1},\n",
       "  {'authorName': 'Zolly, Lisa',\n",
       "   'orcId': None,\n",
       "   'nameType': 'Personal',\n",
       "   'position': 2},\n",
       "  {'authorName': 'Unicorn Enterprises Team',\n",
       "   'orcId': None,\n",
       "   'nameType': 'Organizational',\n",
       "   'position': 3}],\n",
       " 'users': ['dignizio@usgs.gov',\n",
       "  'talbertc@usgs.gov',\n",
       "  'bserna@usgs.gov',\n",
       "  'lisa_zolly@usgs.gov'],\n",
       " 'relatedIdentifiers': [],\n",
       " 'ipdsNumbers': [],\n",
       " 'created': '2019-05-13',\n",
       " 'modified': '2019-05-13'}"
      ]
     },
     "execution_count": 26,
     "metadata": {},
     "output_type": "execute_result"
    }
   ],
   "source": [
    "newTestDoi = DoiSession.get_doi(newDoi)\n",
    "newTestDoi"
   ]
  },
  {
   "cell_type": "markdown",
   "metadata": {},
   "source": [
    "### Update Existing DOI\n",
    "A quick note: the \"get_doi\" function doesn't always fetch the correct status so in the scenario you are editing a reserved (on hold) DOI in the 'production' environment and want it to remain reserved (not public) please be sure to always explicitly reset the status to \"reserved\". Otherwise an 'update' call may inadvertently publish the DOI which cannot be undone.\n",
    "\n",
    "Here, we illustrate how to update 'title', 'authors' while ensuring that the 'status' is not accidentally set to public."
   ]
  },
  {
   "cell_type": "markdown",
   "metadata": {},
   "source": [
    "### Step 1. Update the DOI locally"
   ]
  },
  {
   "cell_type": "code",
   "execution_count": 30,
   "metadata": {},
   "outputs": [
    {
     "data": {
      "text/plain": [
       "{'doi': 'doi:10.5072/S9UST85C',\n",
       " 'title': 'A Modified DOI Made with the Python Wrapper for the USGS DOI Tool',\n",
       " 'pubDate': None,\n",
       " 'url': 'https://data.usgs.gov/datacatalog/doi-messages/temporary.html',\n",
       " 'resourceType': None,\n",
       " 'date': None,\n",
       " 'dateType': None,\n",
       " 'description': 'This text block stores an informative textual description of the resource.',\n",
       " 'subject': None,\n",
       " 'username': 'dignizio@usgs.gov',\n",
       " 'status': 'reserved',\n",
       " 'noDataReleaseAvailableReason': None,\n",
       " 'noPublicationIdAvailable': False,\n",
       " 'dataSourceId': 59507,\n",
       " 'dataSourceName': 'Science Analytics and Synthesis',\n",
       " 'linkCheckingStatus': None,\n",
       " 'formatTypes': [],\n",
       " 'authors': [{'authorName': 'Duck, Donald D.',\n",
       "   'orcId': '0000-0001-8054-5139',\n",
       "   'position': '0',\n",
       "   'nameType': 'Personal'},\n",
       "  {'authorName': 'Mouse, Mickey M.',\n",
       "   'orcid': '0000-0002-9505-1876',\n",
       "   'position': '1',\n",
       "   'nameType': 'Personal'},\n",
       "  {'authorName': 'Jasmine, Princess',\n",
       "   'orcid': '0000-0003-3595-7809',\n",
       "   'position': '2',\n",
       "   'nameType': 'Personal'},\n",
       "  {'authorName': 'Cyberdyne Industries',\n",
       "   'position': '3',\n",
       "   'orcid': '',\n",
       "   'nameType': 'Organizational'}],\n",
       " 'users': ['dignizio@usgs.gov',\n",
       "  'talbertc@usgs.gov',\n",
       "  'bserna@usgs.gov',\n",
       "  'lisa_zolly@usgs.gov'],\n",
       " 'relatedIdentifiers': [],\n",
       " 'ipdsNumbers': [],\n",
       " 'created': '2019-05-13',\n",
       " 'modified': '2019-05-13'}"
      ]
     },
     "execution_count": 30,
     "metadata": {},
     "output_type": "execute_result"
    }
   ],
   "source": [
    "# Working with content of a DOI locally (after 'get_doi'), first change DOI attributes in the local JSON object.\n",
    "newTestDoi['title'] = 'A Modified DOI Made with the Python Wrapper for the USGS DOI Tool'\n",
    "newTestDoi['authors'] = [\n",
    "    {'authorName': 'Duck, Donald D.', \n",
    "     'orcId': '0000-0001-8054-5139', \n",
    "     'position': '0', \n",
    "     'nameType': 'Personal'}, \n",
    "    {'authorName': 'Mouse, Mickey M.', \n",
    "     'orcid': '0000-0002-9505-1876', \n",
    "     'position': '1', \n",
    "     'nameType': 'Personal'}, \n",
    "    {'authorName': 'Jasmine, Princess', \n",
    "     'orcid': '0000-0003-3595-7809', \n",
    "     'position': '2', \n",
    "     'nameType': 'Personal'}, \n",
    "    {'authorName': 'Cyberdyne Industries', \n",
    "     'position': '3', \n",
    "     'orcid': '', \n",
    "     'nameType': 'Organizational'}]\n",
    "newTestDoi['status'] = 'reserved' # Change/remove line when needed.\n",
    "newTestDoi # Display the local JSON to verify changes were made as expected."
   ]
  },
  {
   "cell_type": "markdown",
   "metadata": {},
   "source": [
    "### Step 2. Make the call to update the DOI in the DOI tool"
   ]
  },
  {
   "cell_type": "code",
   "execution_count": 28,
   "metadata": {
    "scrolled": true
   },
   "outputs": [
    {
     "data": {
      "text/plain": [
       "{'doi': 'doi:10.5072/S9UST85C',\n",
       " 'title': 'A Modified DOI Made with the Python Wrapper for the USGS DOI Tool',\n",
       " 'pubDate': None,\n",
       " 'url': 'https://data.usgs.gov/datacatalog/doi-messages/temporary.html',\n",
       " 'resourceType': None,\n",
       " 'date': None,\n",
       " 'dateType': None,\n",
       " 'description': 'This text block stores an informative textual description of the resource.',\n",
       " 'subject': None,\n",
       " 'username': 'dignizio@usgs.gov',\n",
       " 'status': 'reserved',\n",
       " 'noDataReleaseAvailableReason': None,\n",
       " 'noPublicationIdAvailable': False,\n",
       " 'dataSourceId': 59507,\n",
       " 'dataSourceName': 'Science Analytics and Synthesis',\n",
       " 'linkCheckingStatus': None,\n",
       " 'formatTypes': [],\n",
       " 'authors': [{'authorName': 'Duck, TESTER.',\n",
       "   'orcId': '0000-0001-8054-5139',\n",
       "   'nameType': 'Personal',\n",
       "   'position': 0},\n",
       "  {'authorName': 'Mouse, Mickey M.',\n",
       "   'orcId': None,\n",
       "   'nameType': 'Personal',\n",
       "   'position': 1},\n",
       "  {'authorName': 'Jasmine, Princess',\n",
       "   'orcId': None,\n",
       "   'nameType': 'Personal',\n",
       "   'position': 2},\n",
       "  {'authorName': 'Cyberdyne Industries',\n",
       "   'orcId': None,\n",
       "   'nameType': 'Organizational',\n",
       "   'position': 3}],\n",
       " 'users': ['dignizio@usgs.gov',\n",
       "  'talbertc@usgs.gov',\n",
       "  'bserna@usgs.gov',\n",
       "  'lisa_zolly@usgs.gov'],\n",
       " 'relatedIdentifiers': [],\n",
       " 'ipdsNumbers': [],\n",
       " 'created': '2019-05-13',\n",
       " 'modified': '2019-05-13'}"
      ]
     },
     "execution_count": 28,
     "metadata": {},
     "output_type": "execute_result"
    }
   ],
   "source": [
    "DoiSession.doi_update(newTestDoi)"
   ]
  },
  {
   "cell_type": "markdown",
   "metadata": {},
   "source": [
    "### Verify Updates were Made for Accuracy\n",
    "The 'doi_update' call should return the updated DOI content. This code makes absolutely certain by re-fetching and inspecting the values."
   ]
  },
  {
   "cell_type": "code",
   "execution_count": 29,
   "metadata": {
    "scrolled": true
   },
   "outputs": [
    {
     "data": {
      "text/plain": [
       "{'doi': 'doi:10.5072/S9UST85C',\n",
       " 'title': 'A Modified DOI Made with the Python Wrapper for the USGS DOI Tool',\n",
       " 'pubDate': None,\n",
       " 'url': 'https://data.usgs.gov/datacatalog/doi-messages/temporary.html',\n",
       " 'resourceType': None,\n",
       " 'date': None,\n",
       " 'dateType': None,\n",
       " 'description': 'This text block stores an informative textual description of the resource.',\n",
       " 'subject': None,\n",
       " 'username': 'dignizio@usgs.gov',\n",
       " 'status': 'reserved',\n",
       " 'noDataReleaseAvailableReason': None,\n",
       " 'noPublicationIdAvailable': False,\n",
       " 'dataSourceId': 59507,\n",
       " 'dataSourceName': 'Science Analytics and Synthesis',\n",
       " 'linkCheckingStatus': None,\n",
       " 'formatTypes': [],\n",
       " 'authors': [{'authorName': 'Duck, TESTER.',\n",
       "   'orcId': '0000-0001-8054-5139',\n",
       "   'nameType': 'Personal',\n",
       "   'position': 0},\n",
       "  {'authorName': 'Mouse, Mickey M.',\n",
       "   'orcId': None,\n",
       "   'nameType': 'Personal',\n",
       "   'position': 1},\n",
       "  {'authorName': 'Jasmine, Princess',\n",
       "   'orcId': None,\n",
       "   'nameType': 'Personal',\n",
       "   'position': 2},\n",
       "  {'authorName': 'Cyberdyne Industries',\n",
       "   'orcId': None,\n",
       "   'nameType': 'Organizational',\n",
       "   'position': 3}],\n",
       " 'users': ['dignizio@usgs.gov',\n",
       "  'talbertc@usgs.gov',\n",
       "  'bserna@usgs.gov',\n",
       "  'lisa_zolly@usgs.gov'],\n",
       " 'relatedIdentifiers': [],\n",
       " 'ipdsNumbers': [],\n",
       " 'created': '2019-05-13',\n",
       " 'modified': '2019-05-13'}"
      ]
     },
     "execution_count": 29,
     "metadata": {},
     "output_type": "execute_result"
    }
   ],
   "source": [
    "updateTest = DoiSession.get_doi(newDoi) # newDoi is the explicit DOI id string we got when we created the test DOI.\n",
    "updateTest"
   ]
  },
  {
   "cell_type": "markdown",
   "metadata": {},
   "source": [
    "#### References\n",
    "\n",
    "[DOI Tool Staging](https://www1-staging.snafu.cr.usgs.gov/csas/doi/)\n",
    "\n",
    "[DOI Tool Production](https://www1.usgs.gov/csas/doi/)\n",
    "\n",
    "Logged-in AD users should also review the documentation here: https://www1.usgs.gov/csas/doi/web_services.html"
   ]
  },
  {
   "cell_type": "markdown",
   "metadata": {},
   "source": [
    "### Other Notes\n",
    "USGS REST Endpoint (https://www1.usgs.gov/csas/doi/web_services.html#/)\n",
    "\n",
    "Endpoint is caps sensitive!!! Queries for DOIs won't work if not in caps.\n",
    "\n",
    "Format for requesting a published DOI off production endpoint (note the use of a colon and lack of single quotes):\n",
    "\n",
    "https://www1.usgs.gov/csas/dmapi/doi/doi:10.5066/P9VRV6US"
   ]
  },
  {
   "cell_type": "code",
   "execution_count": null,
   "metadata": {},
   "outputs": [],
   "source": []
  }
 ],
 "metadata": {
  "anaconda-cloud": {},
  "kernelspec": {
   "display_name": "Python 3",
   "language": "python",
   "name": "python3"
  },
  "language_info": {
   "codemirror_mode": {
    "name": "ipython",
    "version": 3
   },
   "file_extension": ".py",
   "mimetype": "text/x-python",
   "name": "python",
   "nbconvert_exporter": "python",
   "pygments_lexer": "ipython3",
   "version": "3.7.1"
  }
 },
 "nbformat": 4,
 "nbformat_minor": 1
}
